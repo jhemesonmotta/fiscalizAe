{
 "cells": [
  {
   "cell_type": "markdown",
   "metadata": {},
   "source": [
    "## Bibliotecas"
   ]
  },
  {
   "cell_type": "code",
   "execution_count": 2,
   "metadata": {},
   "outputs": [],
   "source": [
    "#-*- coding:utf-8 -*-\n",
    "import matplotlib.pyplot as plt\n",
    "import numpy as np\n",
    "import pandas as pd\n",
    "import os\n",
    "from modules.analytics import DataGovAnalysis\n",
    "from unidecode import unidecode\n",
    "from datetime import datetime"
   ]
  },
  {
   "cell_type": "code",
   "execution_count": 2,
   "metadata": {},
   "outputs": [
    {
     "name": "stdout",
     "output_type": "stream",
     "text": [
      "Loading Data...\n",
      "Preparing Data...\n"
     ]
    }
   ],
   "source": [
    "DataAnalysis = DataGovAnalysis(csv_file = 'data/compras_dt_vr_preprocessed_sorted.csv')"
   ]
  },
  {
   "cell_type": "code",
   "execution_count": 3,
   "metadata": {},
   "outputs": [
    {
     "data": {
      "text/plain": [
       "(4444022, 6)"
      ]
     },
     "execution_count": 3,
     "metadata": {},
     "output_type": "execute_result"
    }
   ],
   "source": [
    "DataAnalysis.df.shape"
   ]
  },
  {
   "cell_type": "code",
   "execution_count": 4,
   "metadata": {},
   "outputs": [
    {
     "data": {
      "text/html": [
       "<div>\n",
       "<style scoped>\n",
       "    .dataframe tbody tr th:only-of-type {\n",
       "        vertical-align: middle;\n",
       "    }\n",
       "\n",
       "    .dataframe tbody tr th {\n",
       "        vertical-align: top;\n",
       "    }\n",
       "\n",
       "    .dataframe thead th {\n",
       "        text-align: right;\n",
       "    }\n",
       "</style>\n",
       "<table border=\"1\" class=\"dataframe\">\n",
       "  <thead>\n",
       "    <tr style=\"text-align: right;\">\n",
       "      <th></th>\n",
       "      <th>id</th>\n",
       "      <th>vr_estimado</th>\n",
       "      <th>year</th>\n",
       "      <th>month</th>\n",
       "      <th>day</th>\n",
       "      <th>dates</th>\n",
       "    </tr>\n",
       "  </thead>\n",
       "  <tbody>\n",
       "    <tr>\n",
       "      <th>124369</th>\n",
       "      <td>174551</td>\n",
       "      <td>78000.0</td>\n",
       "      <td>2000</td>\n",
       "      <td>1</td>\n",
       "      <td>3</td>\n",
       "      <td>2000-01-03</td>\n",
       "    </tr>\n",
       "    <tr>\n",
       "      <th>124370</th>\n",
       "      <td>415025</td>\n",
       "      <td>840.0</td>\n",
       "      <td>2000</td>\n",
       "      <td>1</td>\n",
       "      <td>3</td>\n",
       "      <td>2000-01-03</td>\n",
       "    </tr>\n",
       "    <tr>\n",
       "      <th>124371</th>\n",
       "      <td>34541</td>\n",
       "      <td>6439.0</td>\n",
       "      <td>2000</td>\n",
       "      <td>1</td>\n",
       "      <td>3</td>\n",
       "      <td>2000-01-03</td>\n",
       "    </tr>\n",
       "    <tr>\n",
       "      <th>124372</th>\n",
       "      <td>110061</td>\n",
       "      <td>2585.0</td>\n",
       "      <td>2000</td>\n",
       "      <td>1</td>\n",
       "      <td>3</td>\n",
       "      <td>2000-01-03</td>\n",
       "    </tr>\n",
       "    <tr>\n",
       "      <th>124373</th>\n",
       "      <td>376770</td>\n",
       "      <td>3610.0</td>\n",
       "      <td>2000</td>\n",
       "      <td>1</td>\n",
       "      <td>3</td>\n",
       "      <td>2000-01-03</td>\n",
       "    </tr>\n",
       "  </tbody>\n",
       "</table>\n",
       "</div>"
      ],
      "text/plain": [
       "            id  vr_estimado  year  month  day      dates\n",
       "124369  174551      78000.0  2000      1    3 2000-01-03\n",
       "124370  415025        840.0  2000      1    3 2000-01-03\n",
       "124371   34541       6439.0  2000      1    3 2000-01-03\n",
       "124372  110061       2585.0  2000      1    3 2000-01-03\n",
       "124373  376770       3610.0  2000      1    3 2000-01-03"
      ]
     },
     "execution_count": 4,
     "metadata": {},
     "output_type": "execute_result"
    }
   ],
   "source": [
    "DataAnalysis.df.head()"
   ]
  },
  {
   "cell_type": "code",
   "execution_count": 5,
   "metadata": {},
   "outputs": [
    {
     "data": {
      "text/plain": [
       "count    4.444022e+06\n",
       "mean     8.429231e+04\n",
       "std      1.154624e+07\n",
       "min      0.000000e+00\n",
       "25%      4.800000e+02\n",
       "50%      1.400000e+03\n",
       "75%      4.000000e+03\n",
       "max      1.800000e+10\n",
       "Name: vr_estimado, dtype: float64"
      ]
     },
     "execution_count": 5,
     "metadata": {},
     "output_type": "execute_result"
    }
   ],
   "source": [
    "DataAnalysis.df.vr_estimado.describe()"
   ]
  },
  {
   "cell_type": "markdown",
   "metadata": {},
   "source": [
    "## Encontrando os 100 maiores gastos"
   ]
  },
  {
   "cell_type": "code",
   "execution_count": 3,
   "metadata": {},
   "outputs": [],
   "source": [
    "csv_file = 'data/compras_slicitacoes.csv'\n",
    "original_df = pd.read_csv(csv_file)"
   ]
  },
  {
   "cell_type": "code",
   "execution_count": 4,
   "metadata": {},
   "outputs": [],
   "source": [
    "df = original_df[(original_df.dtDeclaracaoDispensa >= '2000-01-01')]"
   ]
  },
  {
   "cell_type": "code",
   "execution_count": 5,
   "metadata": {},
   "outputs": [
    {
     "name": "stderr",
     "output_type": "stream",
     "text": [
      "/usr/local/lib/python3.5/dist-packages/ipykernel_launcher.py:1: SettingWithCopyWarning: \n",
      "A value is trying to be set on a copy of a slice from a DataFrame.\n",
      "Try using .loc[row_indexer,col_indexer] = value instead\n",
      "\n",
      "See the caveats in the documentation: http://pandas.pydata.org/pandas-docs/stable/indexing.html#indexing-view-versus-copy\n",
      "  \"\"\"Entry point for launching an IPython kernel.\n"
     ]
    }
   ],
   "source": [
    "df['dtDeclaracaoDispensa'] = pd.to_datetime(df.dtDeclaracaoDispensa)"
   ]
  },
  {
   "cell_type": "code",
   "execution_count": 6,
   "metadata": {},
   "outputs": [
    {
     "data": {
      "text/plain": [
       "(4444022, 17)"
      ]
     },
     "execution_count": 6,
     "metadata": {},
     "output_type": "execute_result"
    }
   ],
   "source": [
    "df.shape"
   ]
  },
  {
   "cell_type": "code",
   "execution_count": 7,
   "metadata": {},
   "outputs": [
    {
     "data": {
      "text/plain": [
       "(4342439, 17)"
      ]
     },
     "execution_count": 7,
     "metadata": {},
     "output_type": "execute_result"
    }
   ],
   "source": [
    "df = df[df.vr_estimado > 0]\n",
    "df.shape"
   ]
  },
  {
   "cell_type": "code",
   "execution_count": 8,
   "metadata": {},
   "outputs": [],
   "source": [
    "del original_df"
   ]
  },
  {
   "cell_type": "code",
   "execution_count": 9,
   "metadata": {},
   "outputs": [],
   "source": [
    "dt_vr = df[['dtDeclaracaoDispensa', 'vr_estimado']]"
   ]
  },
  {
   "cell_type": "code",
   "execution_count": 178,
   "metadata": {},
   "outputs": [
    {
     "data": {
      "text/html": [
       "<div>\n",
       "<style scoped>\n",
       "    .dataframe tbody tr th:only-of-type {\n",
       "        vertical-align: middle;\n",
       "    }\n",
       "\n",
       "    .dataframe tbody tr th {\n",
       "        vertical-align: top;\n",
       "    }\n",
       "\n",
       "    .dataframe thead th {\n",
       "        text-align: right;\n",
       "    }\n",
       "</style>\n",
       "<table border=\"1\" class=\"dataframe\">\n",
       "  <thead>\n",
       "    <tr style=\"text-align: right;\">\n",
       "      <th></th>\n",
       "      <th>Ano</th>\n",
       "      <th>Mês</th>\n",
       "      <th>Gastos</th>\n",
       "    </tr>\n",
       "  </thead>\n",
       "  <tbody>\n",
       "    <tr>\n",
       "      <th>0</th>\n",
       "      <td>2000</td>\n",
       "      <td>1</td>\n",
       "      <td>115937.685282</td>\n",
       "    </tr>\n",
       "    <tr>\n",
       "      <th>1</th>\n",
       "      <td>2000</td>\n",
       "      <td>2</td>\n",
       "      <td>23495.945035</td>\n",
       "    </tr>\n",
       "    <tr>\n",
       "      <th>2</th>\n",
       "      <td>2000</td>\n",
       "      <td>3</td>\n",
       "      <td>13888.612671</td>\n",
       "    </tr>\n",
       "    <tr>\n",
       "      <th>3</th>\n",
       "      <td>2000</td>\n",
       "      <td>4</td>\n",
       "      <td>21472.792350</td>\n",
       "    </tr>\n",
       "    <tr>\n",
       "      <th>4</th>\n",
       "      <td>2000</td>\n",
       "      <td>5</td>\n",
       "      <td>86616.990162</td>\n",
       "    </tr>\n",
       "  </tbody>\n",
       "</table>\n",
       "</div>"
      ],
      "text/plain": [
       "    Ano  Mês         Gastos\n",
       "0  2000    1  115937.685282\n",
       "1  2000    2   23495.945035\n",
       "2  2000    3   13888.612671\n",
       "3  2000    4   21472.792350\n",
       "4  2000    5   86616.990162"
      ]
     },
     "execution_count": 178,
     "metadata": {},
     "output_type": "execute_result"
    }
   ],
   "source": [
    "Query1_A = dt_vr.groupby(by = [dt_vr.dtDeclaracaoDispensa.dt.month]).mean()\n",
    "Query1_A = Query1_A.reset_index()\n",
    "Query1_A.columns = ['Mês', 'Gastos']\n",
    "Query1_A.to_csv('resultado_query1.csv')\n",
    "\n",
    "\n",
    "Query1_B = dt_vr.groupby(by = [dt_vr.dtDeclaracaoDispensa.dt.year, dt_vr.dtDeclaracaoDispensa.dt.month]).mean()\n",
    "Query1_B.index.rename('Mês',level=1,inplace=True)\n",
    "Query1_B.index.rename('Ano',level=0,inplace=True)\n",
    "Query1_B = Query1_B.reset_index()\n",
    "Query1_B.columns = ['Ano', 'Mês', 'Gastos']\n",
    "Query1_B.head()"
   ]
  },
  {
   "cell_type": "code",
   "execution_count": 179,
   "metadata": {},
   "outputs": [
    {
     "data": {
      "image/png": "[encoded data removed]",
      "text/plain": [
       "<Figure size 1152x288 with 1 Axes>"
      ]
     },
     "metadata": {},
     "output_type": "display_data"
    }
   ],
   "source": [
    "plt.figure(figsize=(16,4))\n",
    "plt.bar(['jan', 'fev', 'mar', 'abr', 'mai', 'jun', 'jul', 'ago', 'set', 'out', 'nov', 'dez'], Query1_A['Gastos'])\n",
    "plt.title('Query 1 - Média de gastos por Mês')\n",
    "plt.ylabel('Gastos (R$)')\n",
    "plt.savefig('Query1.png')"
   ]
  },
  {
   "cell_type": "code",
   "execution_count": null,
   "metadata": {},
   "outputs": [],
   "source": []
  },
  {
   "cell_type": "code",
   "execution_count": 152,
   "metadata": {},
   "outputs": [
    {
     "data": {
      "text/html": [
       "<div>\n",
       "<style scoped>\n",
       "    .dataframe tbody tr th:only-of-type {\n",
       "        vertical-align: middle;\n",
       "    }\n",
       "\n",
       "    .dataframe tbody tr th {\n",
       "        vertical-align: top;\n",
       "    }\n",
       "\n",
       "    .dataframe thead th {\n",
       "        text-align: right;\n",
       "    }\n",
       "</style>\n",
       "<table border=\"1\" class=\"dataframe\">\n",
       "  <thead>\n",
       "    <tr style=\"text-align: right;\">\n",
       "      <th></th>\n",
       "      <th>Unnamed: 0</th>\n",
       "      <th>ativo</th>\n",
       "      <th>id</th>\n",
       "      <th>nome</th>\n",
       "      <th>nome_uf</th>\n",
       "      <th>sigla_uf</th>\n",
       "    </tr>\n",
       "  </thead>\n",
       "  <tbody>\n",
       "    <tr>\n",
       "      <th>0</th>\n",
       "      <td>0</td>\n",
       "      <td>True</td>\n",
       "      <td>19</td>\n",
       "      <td>Guajará-Mirim</td>\n",
       "      <td>RONDÔNIA</td>\n",
       "      <td>RO</td>\n",
       "    </tr>\n",
       "    <tr>\n",
       "      <th>1</th>\n",
       "      <td>1</td>\n",
       "      <td>True</td>\n",
       "      <td>27</td>\n",
       "      <td>ALTO ALEGRE DOS PARECIS</td>\n",
       "      <td>RONDÔNIA</td>\n",
       "      <td>RO</td>\n",
       "    </tr>\n",
       "    <tr>\n",
       "      <th>2</th>\n",
       "      <td>2</td>\n",
       "      <td>True</td>\n",
       "      <td>35</td>\n",
       "      <td>Porto Velho</td>\n",
       "      <td>RONDÔNIA</td>\n",
       "      <td>RO</td>\n",
       "    </tr>\n",
       "    <tr>\n",
       "      <th>3</th>\n",
       "      <td>3</td>\n",
       "      <td>True</td>\n",
       "      <td>43</td>\n",
       "      <td>BURITIS</td>\n",
       "      <td>RONDÔNIA</td>\n",
       "      <td>RO</td>\n",
       "    </tr>\n",
       "    <tr>\n",
       "      <th>4</th>\n",
       "      <td>4</td>\n",
       "      <td>True</td>\n",
       "      <td>51</td>\n",
       "      <td>Ji-Paraná</td>\n",
       "      <td>RONDÔNIA</td>\n",
       "      <td>RO</td>\n",
       "    </tr>\n",
       "  </tbody>\n",
       "</table>\n",
       "</div>"
      ],
      "text/plain": [
       "   Unnamed: 0  ativo  id                     nome   nome_uf sigla_uf\n",
       "0           0   True  19            Guajará-Mirim  RONDÔNIA       RO\n",
       "1           1   True  27  ALTO ALEGRE DOS PARECIS  RONDÔNIA       RO\n",
       "2           2   True  35              Porto Velho  RONDÔNIA       RO\n",
       "3           3   True  43                  BURITIS  RONDÔNIA       RO\n",
       "4           4   True  51                Ji-Paraná  RONDÔNIA       RO"
      ]
     },
     "execution_count": 152,
     "metadata": {},
     "output_type": "execute_result"
    }
   ],
   "source": [
    "uasg_vr = df[['co_uasg', 'vr_estimado']]\n",
    "uasgs = pd.read_csv('data/uasgs.csv')\n",
    "\n",
    "localidades = pd.read_csv('data/municipios.csv')\n",
    "localidades.head()"
   ]
  },
  {
   "cell_type": "code",
   "execution_count": 153,
   "metadata": {},
   "outputs": [
    {
     "data": {
      "text/html": [
       "<div>\n",
       "<style scoped>\n",
       "    .dataframe tbody tr th:only-of-type {\n",
       "        vertical-align: middle;\n",
       "    }\n",
       "\n",
       "    .dataframe tbody tr th {\n",
       "        vertical-align: top;\n",
       "    }\n",
       "\n",
       "    .dataframe thead th {\n",
       "        text-align: right;\n",
       "    }\n",
       "</style>\n",
       "<table border=\"1\" class=\"dataframe\">\n",
       "  <thead>\n",
       "    <tr style=\"text-align: right;\">\n",
       "      <th></th>\n",
       "      <th>id</th>\n",
       "      <th>nome</th>\n",
       "      <th>id_municipio</th>\n",
       "      <th>Município</th>\n",
       "      <th>UF</th>\n",
       "    </tr>\n",
       "  </thead>\n",
       "  <tbody>\n",
       "    <tr>\n",
       "      <th>0</th>\n",
       "      <td>10001</td>\n",
       "      <td>CAMARA DOS DEPUTADOS</td>\n",
       "      <td>97012</td>\n",
       "      <td>BRASÍLIA</td>\n",
       "      <td>DF</td>\n",
       "    </tr>\n",
       "    <tr>\n",
       "      <th>2</th>\n",
       "      <td>10002</td>\n",
       "      <td>CAMARA DOS DEPUTADOS - UG P/CONSULTA</td>\n",
       "      <td>97012</td>\n",
       "      <td>BRASÍLIA</td>\n",
       "      <td>DF</td>\n",
       "    </tr>\n",
       "    <tr>\n",
       "      <th>4</th>\n",
       "      <td>10090</td>\n",
       "      <td>FUNDO ROTATIVO DA CAMARA DOS DEPUTADOS</td>\n",
       "      <td>97012</td>\n",
       "      <td>BRASÍLIA</td>\n",
       "      <td>DF</td>\n",
       "    </tr>\n",
       "    <tr>\n",
       "      <th>6</th>\n",
       "      <td>20001</td>\n",
       "      <td>SENADO FEDERAL</td>\n",
       "      <td>97012</td>\n",
       "      <td>BRASÍLIA</td>\n",
       "      <td>DF</td>\n",
       "    </tr>\n",
       "    <tr>\n",
       "      <th>8</th>\n",
       "      <td>20002</td>\n",
       "      <td>CENTRO GRAFICO DO SENADO FEDERAL</td>\n",
       "      <td>97012</td>\n",
       "      <td>BRASÍLIA</td>\n",
       "      <td>DF</td>\n",
       "    </tr>\n",
       "  </tbody>\n",
       "</table>\n",
       "</div>"
      ],
      "text/plain": [
       "      id                                    nome  id_municipio Município  UF\n",
       "0  10001                    CAMARA DOS DEPUTADOS         97012  BRASÍLIA  DF\n",
       "2  10002    CAMARA DOS DEPUTADOS - UG P/CONSULTA         97012  BRASÍLIA  DF\n",
       "4  10090  FUNDO ROTATIVO DA CAMARA DOS DEPUTADOS         97012  BRASÍLIA  DF\n",
       "6  20001                          SENADO FEDERAL         97012  BRASÍLIA  DF\n",
       "8  20002        CENTRO GRAFICO DO SENADO FEDERAL         97012  BRASÍLIA  DF"
      ]
     },
     "execution_count": 153,
     "metadata": {},
     "output_type": "execute_result"
    }
   ],
   "source": [
    "uasgs = pd.merge(left=uasgs[['id', 'id_municipio', 'nome']], left_on='id_municipio', right = localidades[['id', 'nome', 'sigla_uf']], right_on='id')\n",
    "uasgs = uasgs.drop(['id_municipio'], axis = 1)\n",
    "uasgs.columns = ['id', 'nome', 'id_municipio', 'Município', 'UF']\n",
    "uasgs = uasgs.drop_duplicates('id')\n",
    "uasgs.head()"
   ]
  },
  {
   "cell_type": "code",
   "execution_count": 156,
   "metadata": {},
   "outputs": [],
   "source": [
    "uasg_vr = pd.merge(left=uasgs, left_on='id', right=uasg_vr, right_on='co_uasg')"
   ]
  },
  {
   "cell_type": "code",
   "execution_count": 176,
   "metadata": {},
   "outputs": [
    {
     "data": {
      "text/html": [
       "<div>\n",
       "<style scoped>\n",
       "    .dataframe tbody tr th:only-of-type {\n",
       "        vertical-align: middle;\n",
       "    }\n",
       "\n",
       "    .dataframe tbody tr th {\n",
       "        vertical-align: top;\n",
       "    }\n",
       "\n",
       "    .dataframe thead th {\n",
       "        text-align: right;\n",
       "    }\n",
       "</style>\n",
       "<table border=\"1\" class=\"dataframe\">\n",
       "  <thead>\n",
       "    <tr style=\"text-align: right;\">\n",
       "      <th></th>\n",
       "      <th>Cidade</th>\n",
       "      <th>UF</th>\n",
       "      <th>Gastos</th>\n",
       "    </tr>\n",
       "  </thead>\n",
       "  <tbody>\n",
       "    <tr>\n",
       "      <th>0</th>\n",
       "      <td>BRASÍLIA</td>\n",
       "      <td>DF</td>\n",
       "      <td>2.183212e+11</td>\n",
       "    </tr>\n",
       "    <tr>\n",
       "      <th>1</th>\n",
       "      <td>Rio de Janeiro</td>\n",
       "      <td>RJ</td>\n",
       "      <td>5.289779e+10</td>\n",
       "    </tr>\n",
       "    <tr>\n",
       "      <th>2</th>\n",
       "      <td>Porto Alegre</td>\n",
       "      <td>RS</td>\n",
       "      <td>2.251428e+10</td>\n",
       "    </tr>\n",
       "    <tr>\n",
       "      <th>3</th>\n",
       "      <td>Belém</td>\n",
       "      <td>PA</td>\n",
       "      <td>7.531324e+09</td>\n",
       "    </tr>\n",
       "    <tr>\n",
       "      <th>4</th>\n",
       "      <td>Belo Horizonte</td>\n",
       "      <td>MG</td>\n",
       "      <td>6.591175e+09</td>\n",
       "    </tr>\n",
       "  </tbody>\n",
       "</table>\n",
       "</div>"
      ],
      "text/plain": [
       "           Cidade  UF        Gastos\n",
       "0        BRASÍLIA  DF  2.183212e+11\n",
       "1  Rio de Janeiro  RJ  5.289779e+10\n",
       "2    Porto Alegre  RS  2.251428e+10\n",
       "3           Belém  PA  7.531324e+09\n",
       "4  Belo Horizonte  MG  6.591175e+09"
      ]
     },
     "execution_count": 176,
     "metadata": {},
     "output_type": "execute_result"
    }
   ],
   "source": [
    "Query2 = uasg_vr.groupby(by = ['id_municipio', 'Município', 'UF'])[['vr_estimado']].sum()\n",
    "Query2 = Query2.sort_values(by = 'vr_estimado', ascending = False)\n",
    "Query2 = Query2.reset_index()\n",
    "Query2.columns = ['id_Municipio', 'Cidade', 'UF', 'Gastos']\n",
    "Query2 = Query2.drop('id_Municipio', axis = 1)\n",
    "Query2.to_csv('resultado_query2.csv')\n",
    "Query2.head()"
   ]
  },
  {
   "cell_type": "code",
   "execution_count": 177,
   "metadata": {},
   "outputs": [
    {
     "data": {
      "image/png": "[encoded data removed]",
      "text/plain": [
       "<Figure size 1152x1152 with 1 Axes>"
      ]
     },
     "metadata": {},
     "output_type": "display_data"
    }
   ],
   "source": [
    "plt.figure(figsize=(16,16))\n",
    "plt.barh(Query2['Cidade'].values[0:20] + ', ' + Query2.UF.values[0:20], Query2.Gastos.values[0:20])\n",
    "plt.title('Query 2 - Soma de gastos por Cidade')\n",
    "plt.xlabel('Gastos (R$)')\n",
    "plt.ylabel('Cidade')\n",
    "plt.xscale('log')\n",
    "plt.xlim(1e8,1e12)\n",
    "plt.savefig('Query2.png')"
   ]
  },
  {
   "cell_type": "code",
   "execution_count": 200,
   "metadata": {},
   "outputs": [
    {
     "data": {
      "text/html": [
       "<div>\n",
       "<style scoped>\n",
       "    .dataframe tbody tr th:only-of-type {\n",
       "        vertical-align: middle;\n",
       "    }\n",
       "\n",
       "    .dataframe tbody tr th {\n",
       "        vertical-align: top;\n",
       "    }\n",
       "\n",
       "    .dataframe thead th {\n",
       "        text-align: right;\n",
       "    }\n",
       "</style>\n",
       "<table border=\"1\" class=\"dataframe\">\n",
       "  <thead>\n",
       "    <tr style=\"text-align: right;\">\n",
       "      <th></th>\n",
       "      <th></th>\n",
       "      <th>count</th>\n",
       "    </tr>\n",
       "    <tr>\n",
       "      <th>dtDeclaracaoDispensa</th>\n",
       "      <th>co_modalidade_licitacao</th>\n",
       "      <th></th>\n",
       "    </tr>\n",
       "  </thead>\n",
       "  <tbody>\n",
       "    <tr>\n",
       "      <th rowspan=\"2\" valign=\"top\">2000</th>\n",
       "      <th>6</th>\n",
       "      <td>98334</td>\n",
       "    </tr>\n",
       "    <tr>\n",
       "      <th>7</th>\n",
       "      <td>9154</td>\n",
       "    </tr>\n",
       "    <tr>\n",
       "      <th rowspan=\"2\" valign=\"top\">2001</th>\n",
       "      <th>6</th>\n",
       "      <td>317225</td>\n",
       "    </tr>\n",
       "    <tr>\n",
       "      <th>7</th>\n",
       "      <td>13000</td>\n",
       "    </tr>\n",
       "    <tr>\n",
       "      <th>2002</th>\n",
       "      <th>6</th>\n",
       "      <td>332104</td>\n",
       "    </tr>\n",
       "  </tbody>\n",
       "</table>\n",
       "</div>"
      ],
      "text/plain": [
       "                                               count\n",
       "dtDeclaracaoDispensa co_modalidade_licitacao        \n",
       "2000                 6                         98334\n",
       "                     7                          9154\n",
       "2001                 6                        317225\n",
       "                     7                         13000\n",
       "2002                 6                        332104"
      ]
     },
     "execution_count": 200,
     "metadata": {},
     "output_type": "execute_result"
    }
   ],
   "source": [
    "md_vr = df[['dtDeclaracaoDispensa', 'co_modalidade_licitacao','vr_estimado']]\n",
    "Query3 = md_vr.groupby([md_vr.dtDeclaracaoDispensa.dt.year, 'co_modalidade_licitacao']).agg(['count'])\n",
    "Query3 = Query3['vr_estimado']\n",
    "Query3.head()"
   ]
  },
  {
   "cell_type": "code",
   "execution_count": 201,
   "metadata": {},
   "outputs": [
    {
     "data": {
      "text/html": [
       "<div>\n",
       "<style scoped>\n",
       "    .dataframe tbody tr th:only-of-type {\n",
       "        vertical-align: middle;\n",
       "    }\n",
       "\n",
       "    .dataframe tbody tr th {\n",
       "        vertical-align: top;\n",
       "    }\n",
       "\n",
       "    .dataframe thead th {\n",
       "        text-align: right;\n",
       "    }\n",
       "</style>\n",
       "<table border=\"1\" class=\"dataframe\">\n",
       "  <thead>\n",
       "    <tr style=\"text-align: right;\">\n",
       "      <th></th>\n",
       "      <th>Ano</th>\n",
       "      <th>Modalidade</th>\n",
       "      <th>Quantidade de Compras</th>\n",
       "    </tr>\n",
       "  </thead>\n",
       "  <tbody>\n",
       "    <tr>\n",
       "      <th>0</th>\n",
       "      <td>2000</td>\n",
       "      <td>6</td>\n",
       "      <td>98334</td>\n",
       "    </tr>\n",
       "    <tr>\n",
       "      <th>1</th>\n",
       "      <td>2000</td>\n",
       "      <td>7</td>\n",
       "      <td>9154</td>\n",
       "    </tr>\n",
       "    <tr>\n",
       "      <th>2</th>\n",
       "      <td>2001</td>\n",
       "      <td>6</td>\n",
       "      <td>317225</td>\n",
       "    </tr>\n",
       "    <tr>\n",
       "      <th>3</th>\n",
       "      <td>2001</td>\n",
       "      <td>7</td>\n",
       "      <td>13000</td>\n",
       "    </tr>\n",
       "    <tr>\n",
       "      <th>4</th>\n",
       "      <td>2002</td>\n",
       "      <td>6</td>\n",
       "      <td>332104</td>\n",
       "    </tr>\n",
       "  </tbody>\n",
       "</table>\n",
       "</div>"
      ],
      "text/plain": [
       "    Ano  Modalidade  Quantidade de Compras\n",
       "0  2000           6                  98334\n",
       "1  2000           7                   9154\n",
       "2  2001           6                 317225\n",
       "3  2001           7                  13000\n",
       "4  2002           6                 332104"
      ]
     },
     "execution_count": 201,
     "metadata": {},
     "output_type": "execute_result"
    }
   ],
   "source": [
    "Query3 = Query3.reset_index()\n",
    "Query3.columns = ['Ano', 'Modalidade', 'Quantidade de Compras']\n",
    "Query3.head()"
   ]
  },
  {
   "cell_type": "code",
   "execution_count": 202,
   "metadata": {},
   "outputs": [
    {
     "data": {
      "text/html": [
       "<div>\n",
       "<style scoped>\n",
       "    .dataframe tbody tr th:only-of-type {\n",
       "        vertical-align: middle;\n",
       "    }\n",
       "\n",
       "    .dataframe tbody tr th {\n",
       "        vertical-align: top;\n",
       "    }\n",
       "\n",
       "    .dataframe thead th {\n",
       "        text-align: right;\n",
       "    }\n",
       "</style>\n",
       "<table border=\"1\" class=\"dataframe\">\n",
       "  <thead>\n",
       "    <tr style=\"text-align: right;\">\n",
       "      <th></th>\n",
       "      <th>Unnamed: 0</th>\n",
       "      <th>codigo</th>\n",
       "      <th>descricao</th>\n",
       "    </tr>\n",
       "  </thead>\n",
       "  <tbody>\n",
       "    <tr>\n",
       "      <th>0</th>\n",
       "      <td>0</td>\n",
       "      <td>1</td>\n",
       "      <td>CONVITE                                       ...</td>\n",
       "    </tr>\n",
       "    <tr>\n",
       "      <th>1</th>\n",
       "      <td>1</td>\n",
       "      <td>2</td>\n",
       "      <td>TOMADA DE PREÇOS                              ...</td>\n",
       "    </tr>\n",
       "    <tr>\n",
       "      <th>2</th>\n",
       "      <td>2</td>\n",
       "      <td>3</td>\n",
       "      <td>CONCORRÊNCIA                                  ...</td>\n",
       "    </tr>\n",
       "    <tr>\n",
       "      <th>3</th>\n",
       "      <td>3</td>\n",
       "      <td>4</td>\n",
       "      <td>CONCORRÊNCIA INTERNACIONAL                    ...</td>\n",
       "    </tr>\n",
       "    <tr>\n",
       "      <th>4</th>\n",
       "      <td>4</td>\n",
       "      <td>5</td>\n",
       "      <td>PREGÃO                                        ...</td>\n",
       "    </tr>\n",
       "  </tbody>\n",
       "</table>\n",
       "</div>"
      ],
      "text/plain": [
       "   Unnamed: 0  codigo                                          descricao\n",
       "0           0       1  CONVITE                                       ...\n",
       "1           1       2  TOMADA DE PREÇOS                              ...\n",
       "2           2       3  CONCORRÊNCIA                                  ...\n",
       "3           3       4  CONCORRÊNCIA INTERNACIONAL                    ...\n",
       "4           4       5  PREGÃO                                        ..."
      ]
     },
     "execution_count": 202,
     "metadata": {},
     "output_type": "execute_result"
    }
   ],
   "source": [
    "modalidades = pd.read_csv('data/modalidades_licitacao.csv')\n",
    "modalidades.head()"
   ]
  },
  {
   "cell_type": "code",
   "execution_count": 203,
   "metadata": {},
   "outputs": [
    {
     "data": {
      "text/html": [
       "<div>\n",
       "<style scoped>\n",
       "    .dataframe tbody tr th:only-of-type {\n",
       "        vertical-align: middle;\n",
       "    }\n",
       "\n",
       "    .dataframe tbody tr th {\n",
       "        vertical-align: top;\n",
       "    }\n",
       "\n",
       "    .dataframe thead th {\n",
       "        text-align: right;\n",
       "    }\n",
       "</style>\n",
       "<table border=\"1\" class=\"dataframe\">\n",
       "  <thead>\n",
       "    <tr style=\"text-align: right;\">\n",
       "      <th></th>\n",
       "      <th>codigo</th>\n",
       "      <th>descricao</th>\n",
       "      <th>Ano</th>\n",
       "      <th>Modalidade</th>\n",
       "      <th>Quantidade de Compras</th>\n",
       "    </tr>\n",
       "  </thead>\n",
       "  <tbody>\n",
       "    <tr>\n",
       "      <th>0</th>\n",
       "      <td>6</td>\n",
       "      <td>DISPENSA DE LICITAÇÃO                         ...</td>\n",
       "      <td>2000</td>\n",
       "      <td>6</td>\n",
       "      <td>98334</td>\n",
       "    </tr>\n",
       "    <tr>\n",
       "      <th>1</th>\n",
       "      <td>6</td>\n",
       "      <td>DISPENSA DE LICITAÇÃO                         ...</td>\n",
       "      <td>2001</td>\n",
       "      <td>6</td>\n",
       "      <td>317225</td>\n",
       "    </tr>\n",
       "    <tr>\n",
       "      <th>2</th>\n",
       "      <td>6</td>\n",
       "      <td>DISPENSA DE LICITAÇÃO                         ...</td>\n",
       "      <td>2002</td>\n",
       "      <td>6</td>\n",
       "      <td>332104</td>\n",
       "    </tr>\n",
       "    <tr>\n",
       "      <th>3</th>\n",
       "      <td>6</td>\n",
       "      <td>DISPENSA DE LICITAÇÃO                         ...</td>\n",
       "      <td>2003</td>\n",
       "      <td>6</td>\n",
       "      <td>287966</td>\n",
       "    </tr>\n",
       "    <tr>\n",
       "      <th>4</th>\n",
       "      <td>6</td>\n",
       "      <td>DISPENSA DE LICITAÇÃO                         ...</td>\n",
       "      <td>2004</td>\n",
       "      <td>6</td>\n",
       "      <td>283954</td>\n",
       "    </tr>\n",
       "  </tbody>\n",
       "</table>\n",
       "</div>"
      ],
      "text/plain": [
       "   codigo                                          descricao   Ano  \\\n",
       "0       6  DISPENSA DE LICITAÇÃO                         ...  2000   \n",
       "1       6  DISPENSA DE LICITAÇÃO                         ...  2001   \n",
       "2       6  DISPENSA DE LICITAÇÃO                         ...  2002   \n",
       "3       6  DISPENSA DE LICITAÇÃO                         ...  2003   \n",
       "4       6  DISPENSA DE LICITAÇÃO                         ...  2004   \n",
       "\n",
       "   Modalidade  Quantidade de Compras  \n",
       "0           6                  98334  \n",
       "1           6                 317225  \n",
       "2           6                 332104  \n",
       "3           6                 287966  \n",
       "4           6                 283954  "
      ]
     },
     "execution_count": 203,
     "metadata": {},
     "output_type": "execute_result"
    }
   ],
   "source": [
    "Query3 = pd.merge(left=modalidades[['codigo', 'descricao']], left_on='codigo', right=Query3, right_on='Modalidade')\n",
    "Query3.head()"
   ]
  },
  {
   "cell_type": "code",
   "execution_count": 204,
   "metadata": {},
   "outputs": [],
   "source": [
    "Query3 = Query3.drop(['codigo'],axis = 1)"
   ]
  },
  {
   "cell_type": "code",
   "execution_count": 212,
   "metadata": {},
   "outputs": [
    {
     "data": {
      "image/png": "[encoded data removed]",
      "text/plain": [
       "<Figure size 1152x288 with 1 Axes>"
      ]
     },
     "metadata": {},
     "output_type": "display_data"
    }
   ],
   "source": [
    "cod_6 = Query3[Query3.Modalidade == 6]\n",
    "cod_7 = Query3[Query3.Modalidade == 7]\n",
    "\n",
    "plt.figure(figsize=(16,4))\n",
    "plt.title('Quantidade de Compras por Modalildade de Dispensa')\n",
    "plt.ylabel('Quantidade de Compras')\n",
    "plt.bar(cod_6.Ano.astype(str), cod_6['Quantidade de Compras'], alpha = .5, label = 'Dispensa')\n",
    "plt.yscale('log')\n",
    "plt.ylim(1e3, 1e6)\n",
    "#plt.figure(figsize=(16,4))\n",
    "plt.bar(cod_7.Ano.astype(str), cod_7['Quantidade de Compras'], alpha = .5, label = 'Inexigibilidade')\n",
    "plt.legend()\n",
    "plt.savefig('Query3.png')"
   ]
  },
  {
   "cell_type": "code",
   "execution_count": 215,
   "metadata": {},
   "outputs": [],
   "source": [
    "Query3 = Query3.drop(['Modalidade'],axis = 1)\n",
    "Query3.columns = ['Modalidade', 'Ano', 'Quantidade de Compras']\n",
    "Query3.to_csv('resultado_query3.csv')"
   ]
  },
  {
   "cell_type": "code",
   "execution_count": 216,
   "metadata": {},
   "outputs": [
    {
     "data": {
      "text/plain": [
       "Index(['Unnamed: 0', 'co_modalidade_licitacao', 'co_orgao', 'co_uasg',\n",
       "       'ds_fundamento_legal', 'ds_justificativa', 'ds_objeto_licitacao',\n",
       "       'dtDeclaracaoDispensa', 'dtPublicacao', 'dtRatificacao',\n",
       "       'no_cargo_resp_decl_disp', 'no_cargo_resp_ratificacao',\n",
       "       'no_responsavel_decl_disp', 'no_responsavel_ratificacao', 'nu_inciso',\n",
       "       'nu_processo', 'vr_estimado'],\n",
       "      dtype='object')"
      ]
     },
     "execution_count": 216,
     "metadata": {},
     "output_type": "execute_result"
    }
   ],
   "source": [
    "df.columns"
   ]
  },
  {
   "cell_type": "code",
   "execution_count": 217,
   "metadata": {},
   "outputs": [],
   "source": [
    "#resp_vr = df[['dtDeclaracaoDispensa', 'no_responsavel_decl_disp', 'no_cargo_resp_decl_disp', 'co_orgao', 'vr_estimado']]\n",
    "resp_vr = df[['no_responsavel_decl_disp', 'no_cargo_resp_decl_disp', 'vr_estimado']]\n",
    "#resp_vr['info'] = resp_vr.no_responsavel_decl_disp + ',' +  resp_vr.no_cargo_resp_decl_disp + ',' + resp_vr.co_orgao.astype(str)\n",
    "#resp_vr.drop(['no_responsavel'])"
   ]
  },
  {
   "cell_type": "code",
   "execution_count": 219,
   "metadata": {},
   "outputs": [
    {
     "data": {
      "text/html": [
       "<div>\n",
       "<style scoped>\n",
       "    .dataframe tbody tr th:only-of-type {\n",
       "        vertical-align: middle;\n",
       "    }\n",
       "\n",
       "    .dataframe tbody tr th {\n",
       "        vertical-align: top;\n",
       "    }\n",
       "\n",
       "    .dataframe thead th {\n",
       "        text-align: right;\n",
       "    }\n",
       "</style>\n",
       "<table border=\"1\" class=\"dataframe\">\n",
       "  <thead>\n",
       "    <tr style=\"text-align: right;\">\n",
       "      <th></th>\n",
       "      <th>Responsável</th>\n",
       "      <th>Cargo</th>\n",
       "      <th>Quantidade</th>\n",
       "    </tr>\n",
       "  </thead>\n",
       "  <tbody>\n",
       "    <tr>\n",
       "      <th>0</th>\n",
       "      <td>FRANCISCO ROBERTO LEONARDO</td>\n",
       "      <td>Coordenador de Administra§¥o</td>\n",
       "      <td>7571</td>\n",
       "    </tr>\n",
       "    <tr>\n",
       "      <th>1</th>\n",
       "      <td>FLAVIO ANTONIO DOS SANTOS</td>\n",
       "      <td>Diretor Geral</td>\n",
       "      <td>6229</td>\n",
       "    </tr>\n",
       "    <tr>\n",
       "      <th>2</th>\n",
       "      <td>LUIZ ROBERTO SOUZA VIEIRA</td>\n",
       "      <td>Diretor de compras e licitacoes</td>\n",
       "      <td>6010</td>\n",
       "    </tr>\n",
       "    <tr>\n",
       "      <th>3</th>\n",
       "      <td>HUGO DA COSTA RIBEIRO JUNIOR</td>\n",
       "      <td>Diretor</td>\n",
       "      <td>5134</td>\n",
       "    </tr>\n",
       "    <tr>\n",
       "      <th>4</th>\n",
       "      <td>JORGE MARCOS SILVA CHAVES</td>\n",
       "      <td>Comprador</td>\n",
       "      <td>4522</td>\n",
       "    </tr>\n",
       "  </tbody>\n",
       "</table>\n",
       "</div>"
      ],
      "text/plain": [
       "                    Responsável                            Cargo  Quantidade\n",
       "0    FRANCISCO ROBERTO LEONARDO     Coordenador de Administra§¥o        7571\n",
       "1     FLAVIO ANTONIO DOS SANTOS                    Diretor Geral        6229\n",
       "2     LUIZ ROBERTO SOUZA VIEIRA  Diretor de compras e licitacoes        6010\n",
       "3  HUGO DA COSTA RIBEIRO JUNIOR                          Diretor        5134\n",
       "4     JORGE MARCOS SILVA CHAVES                        Comprador        4522"
      ]
     },
     "execution_count": 219,
     "metadata": {},
     "output_type": "execute_result"
    }
   ],
   "source": [
    "Query4 = resp_vr.groupby(by = ['no_responsavel_decl_disp', 'no_cargo_resp_decl_disp']).agg(['count'])\n",
    "Query4 = Query4['vr_estimado'].sort_values(by='count', ascending = False).reset_index()\n",
    "Query4.columns = ['Responsável', 'Cargo', 'Quantidade']\n",
    "Query4.to_csv('resultado_query4.csv')\n",
    "Query4.head()"
   ]
  },
  {
   "cell_type": "code",
   "execution_count": 226,
   "metadata": {},
   "outputs": [
    {
     "data": {
      "image/png": "[encoded data removed]",
      "text/plain": [
       "<Figure size 864x1152 with 1 Axes>"
      ]
     },
     "metadata": {},
     "output_type": "display_data"
    }
   ],
   "source": [
    "plt.figure(figsize=(12,16))\n",
    "plt.barh(Query4['Responsável'][0:20] + ', ' + Query4['Cargo'][0:20], Query4['Quantidade'].values[0:20])\n",
    "plt.title('Query 4 - Quantidade de Compras por Responsável pela compra')\n",
    "plt.xlabel('Quantidade de Compras')\n",
    "plt.ylabel('Responsável')\n",
    "plt.savefig('Query4.png')"
   ]
  },
  {
   "cell_type": "code",
   "execution_count": 221,
   "metadata": {},
   "outputs": [
    {
     "data": {
      "text/html": [
       "<div>\n",
       "<style scoped>\n",
       "    .dataframe tbody tr th:only-of-type {\n",
       "        vertical-align: middle;\n",
       "    }\n",
       "\n",
       "    .dataframe tbody tr th {\n",
       "        vertical-align: top;\n",
       "    }\n",
       "\n",
       "    .dataframe thead th {\n",
       "        text-align: right;\n",
       "    }\n",
       "</style>\n",
       "<table border=\"1\" class=\"dataframe\">\n",
       "  <thead>\n",
       "    <tr style=\"text-align: right;\">\n",
       "      <th></th>\n",
       "      <th>Unnamed: 0</th>\n",
       "      <th>ativo</th>\n",
       "      <th>codigo</th>\n",
       "      <th>codigo_siorg</th>\n",
       "      <th>codigo_tipo_adm</th>\n",
       "      <th>codigo_tipo_esfera</th>\n",
       "      <th>codigo_tipo_poder</th>\n",
       "      <th>nome</th>\n",
       "    </tr>\n",
       "  </thead>\n",
       "  <tbody>\n",
       "    <tr>\n",
       "      <th>0</th>\n",
       "      <td>0</td>\n",
       "      <td>True</td>\n",
       "      <td>1000</td>\n",
       "      <td>NaN</td>\n",
       "      <td>1</td>\n",
       "      <td>Federal</td>\n",
       "      <td>1</td>\n",
       "      <td>CAMARA DOS DEPUTADOS</td>\n",
       "    </tr>\n",
       "    <tr>\n",
       "      <th>1</th>\n",
       "      <td>1</td>\n",
       "      <td>True</td>\n",
       "      <td>1901</td>\n",
       "      <td>NaN</td>\n",
       "      <td>7</td>\n",
       "      <td>NaN</td>\n",
       "      <td>1</td>\n",
       "      <td>FUNDO ROTATIVO DA CAMARA DOS DEPUTADOS</td>\n",
       "    </tr>\n",
       "    <tr>\n",
       "      <th>2</th>\n",
       "      <td>2</td>\n",
       "      <td>True</td>\n",
       "      <td>2000</td>\n",
       "      <td>NaN</td>\n",
       "      <td>1</td>\n",
       "      <td>NaN</td>\n",
       "      <td>1</td>\n",
       "      <td>SENADO FEDERAL</td>\n",
       "    </tr>\n",
       "    <tr>\n",
       "      <th>3</th>\n",
       "      <td>3</td>\n",
       "      <td>True</td>\n",
       "      <td>2001</td>\n",
       "      <td>NaN</td>\n",
       "      <td>7</td>\n",
       "      <td>NaN</td>\n",
       "      <td>1</td>\n",
       "      <td>FUNDO ESPECIAL DO SENADO FEDERAL</td>\n",
       "    </tr>\n",
       "    <tr>\n",
       "      <th>4</th>\n",
       "      <td>4</td>\n",
       "      <td>True</td>\n",
       "      <td>2002</td>\n",
       "      <td>NaN</td>\n",
       "      <td>7</td>\n",
       "      <td>NaN</td>\n",
       "      <td>1</td>\n",
       "      <td>SENADO FEDERAL/FUNSEEP</td>\n",
       "    </tr>\n",
       "  </tbody>\n",
       "</table>\n",
       "</div>"
      ],
      "text/plain": [
       "   Unnamed: 0  ativo  codigo  codigo_siorg  codigo_tipo_adm  \\\n",
       "0           0   True    1000           NaN                1   \n",
       "1           1   True    1901           NaN                7   \n",
       "2           2   True    2000           NaN                1   \n",
       "3           3   True    2001           NaN                7   \n",
       "4           4   True    2002           NaN                7   \n",
       "\n",
       "  codigo_tipo_esfera  codigo_tipo_poder  \\\n",
       "0            Federal                  1   \n",
       "1                NaN                  1   \n",
       "2                NaN                  1   \n",
       "3                NaN                  1   \n",
       "4                NaN                  1   \n",
       "\n",
       "                                     nome  \n",
       "0                    CAMARA DOS DEPUTADOS  \n",
       "1  FUNDO ROTATIVO DA CAMARA DOS DEPUTADOS  \n",
       "2                          SENADO FEDERAL  \n",
       "3        FUNDO ESPECIAL DO SENADO FEDERAL  \n",
       "4                  SENADO FEDERAL/FUNSEEP  "
      ]
     },
     "execution_count": 221,
     "metadata": {},
     "output_type": "execute_result"
    }
   ],
   "source": [
    "orgaos = pd.read_csv('data/orgaos.csv')\n",
    "orgaos.head()"
   ]
  },
  {
   "cell_type": "code",
   "execution_count": 222,
   "metadata": {},
   "outputs": [
    {
     "data": {
      "text/html": [
       "<div>\n",
       "<style scoped>\n",
       "    .dataframe tbody tr th:only-of-type {\n",
       "        vertical-align: middle;\n",
       "    }\n",
       "\n",
       "    .dataframe tbody tr th {\n",
       "        vertical-align: top;\n",
       "    }\n",
       "\n",
       "    .dataframe thead th {\n",
       "        text-align: right;\n",
       "    }\n",
       "</style>\n",
       "<table border=\"1\" class=\"dataframe\">\n",
       "  <thead>\n",
       "    <tr style=\"text-align: right;\">\n",
       "      <th></th>\n",
       "      <th>co_orgao</th>\n",
       "      <th>Órgão</th>\n",
       "      <th>Gastos</th>\n",
       "    </tr>\n",
       "  </thead>\n",
       "  <tbody>\n",
       "    <tr>\n",
       "      <th>0</th>\n",
       "      <td>36000</td>\n",
       "      <td>MINISTERIO DA SAUDE</td>\n",
       "      <td>6.976154e+10</td>\n",
       "    </tr>\n",
       "    <tr>\n",
       "      <th>1</th>\n",
       "      <td>52121</td>\n",
       "      <td>COMANDO DO EXERCITO</td>\n",
       "      <td>6.374591e+10</td>\n",
       "    </tr>\n",
       "    <tr>\n",
       "      <th>2</th>\n",
       "      <td>52111</td>\n",
       "      <td>COMANDO DA AERONAUTICA</td>\n",
       "      <td>2.750659e+10</td>\n",
       "    </tr>\n",
       "    <tr>\n",
       "      <th>3</th>\n",
       "      <td>36201</td>\n",
       "      <td>FUNDACAO OSWALDO CRUZ</td>\n",
       "      <td>2.684147e+10</td>\n",
       "    </tr>\n",
       "    <tr>\n",
       "      <th>4</th>\n",
       "      <td>26298</td>\n",
       "      <td>FUNDO NACIONAL DE DESENVOLVIMENTO DA EDUCACAO</td>\n",
       "      <td>2.376398e+10</td>\n",
       "    </tr>\n",
       "  </tbody>\n",
       "</table>\n",
       "</div>"
      ],
      "text/plain": [
       "   co_orgao                                          Órgão        Gastos\n",
       "0     36000                            MINISTERIO DA SAUDE  6.976154e+10\n",
       "1     52121                            COMANDO DO EXERCITO  6.374591e+10\n",
       "2     52111                         COMANDO DA AERONAUTICA  2.750659e+10\n",
       "3     36201                          FUNDACAO OSWALDO CRUZ  2.684147e+10\n",
       "4     26298  FUNDO NACIONAL DE DESENVOLVIMENTO DA EDUCACAO  2.376398e+10"
      ]
     },
     "execution_count": 222,
     "metadata": {},
     "output_type": "execute_result"
    }
   ],
   "source": [
    "orgao_vr = df[['co_orgao', 'vr_estimado']]\n",
    "Query5 = orgao_vr.groupby(by = ['co_orgao']).sum()\n",
    "Query5 = pd.merge(left=orgaos[['codigo', 'nome']], left_on='codigo', right=Query5, right_on='co_orgao')\n",
    "Query5.columns = ['co_orgao','Órgão', 'Gastos']\n",
    "Query5 = Query5.sort_values(by = 'Gastos', ascending = False)\n",
    "Query5 = Query5.drop_duplicates('co_orgao')\n",
    "Query5 = Query5.reset_index(drop = True)\n",
    "Query5.to_csv('resultado_query5.csv')\n",
    "Query5.head()"
   ]
  },
  {
   "cell_type": "code",
   "execution_count": 225,
   "metadata": {},
   "outputs": [
    {
     "data": {
      "image/png": "[encoded data removed]",
      "text/plain": [
       "<Figure size 864x1152 with 1 Axes>"
      ]
     },
     "metadata": {},
     "output_type": "display_data"
    }
   ],
   "source": [
    "plt.figure(figsize=(12,16))\n",
    "plt.barh(Query5['Órgão'].values[0:20], Query5.Gastos.values[0:20])\n",
    "plt.title('Query 5 - Soma de gastos por Órgão')\n",
    "plt.xlabel('Gastos (R$)')\n",
    "plt.ylabel('Órgão')\n",
    "plt.xscale('log')\n",
    "plt.xlim(1e8,1e11)\n",
    "plt.savefig('Query5.png')"
   ]
  },
  {
   "cell_type": "code",
   "execution_count": 41,
   "metadata": {},
   "outputs": [
    {
     "ename": "ValueError",
     "evalue": "cannot insert dtDeclaracaoDispensa, already exists",
     "output_type": "error",
     "traceback": [
      "\u001b[0;31m-----------------------------------------------------------\u001b[0m",
      "\u001b[0;31mValueError\u001b[0m                Traceback (most recent call last)",
      "\u001b[0;32m<ipython-input-41-32948f5c39b1>\u001b[0m in \u001b[0;36m<module>\u001b[0;34m()\u001b[0m\n\u001b[1;32m      4\u001b[0m \u001b[0;34m\u001b[0m\u001b[0m\n\u001b[1;32m      5\u001b[0m \u001b[0mQuery1_B\u001b[0m \u001b[0;34m=\u001b[0m \u001b[0mdt_vr\u001b[0m\u001b[0;34m.\u001b[0m\u001b[0mgroupby\u001b[0m\u001b[0;34m(\u001b[0m\u001b[0mby\u001b[0m \u001b[0;34m=\u001b[0m \u001b[0;34m[\u001b[0m\u001b[0mdt_vr\u001b[0m\u001b[0;34m.\u001b[0m\u001b[0mdtDeclaracaoDispensa\u001b[0m\u001b[0;34m.\u001b[0m\u001b[0mdt\u001b[0m\u001b[0;34m.\u001b[0m\u001b[0myear\u001b[0m\u001b[0;34m,\u001b[0m \u001b[0mdt_vr\u001b[0m\u001b[0;34m.\u001b[0m\u001b[0mdtDeclaracaoDispensa\u001b[0m\u001b[0;34m.\u001b[0m\u001b[0mdt\u001b[0m\u001b[0;34m.\u001b[0m\u001b[0mmonth\u001b[0m\u001b[0;34m]\u001b[0m\u001b[0;34m)\u001b[0m\u001b[0;34m.\u001b[0m\u001b[0mmean\u001b[0m\u001b[0;34m(\u001b[0m\u001b[0;34m)\u001b[0m\u001b[0;34m\u001b[0m\u001b[0m\n\u001b[0;32m----> 6\u001b[0;31m \u001b[0mQuery1_B\u001b[0m \u001b[0;34m=\u001b[0m \u001b[0mQuery1_B\u001b[0m\u001b[0;34m.\u001b[0m\u001b[0mreset_index\u001b[0m\u001b[0;34m(\u001b[0m\u001b[0;34m)\u001b[0m\u001b[0;34m\u001b[0m\u001b[0m\n\u001b[0m\u001b[1;32m      7\u001b[0m \u001b[0mQuery1_B\u001b[0m\u001b[0;34m.\u001b[0m\u001b[0mcolumns\u001b[0m \u001b[0;34m=\u001b[0m \u001b[0;34m[\u001b[0m\u001b[0;34m'Mês'\u001b[0m\u001b[0;34m,\u001b[0m \u001b[0;34m'Valor Médio ($)'\u001b[0m\u001b[0;34m]\u001b[0m\u001b[0;34m\u001b[0m\u001b[0m\n\u001b[1;32m      8\u001b[0m \u001b[0mQuery1_B\u001b[0m \u001b[0;34m=\u001b[0m \u001b[0mQuery1_B\u001b[0m\u001b[0;34m.\u001b[0m\u001b[0mreset_index\u001b[0m\u001b[0;34m(\u001b[0m\u001b[0;34m)\u001b[0m\u001b[0;34m\u001b[0m\u001b[0m\n",
      "\u001b[0;32m/usr/local/lib/python3.5/dist-packages/pandas/core/frame.py\u001b[0m in \u001b[0;36mreset_index\u001b[0;34m(self, level, drop, inplace, col_level, col_fill)\u001b[0m\n\u001b[1;32m   4137\u001b[0m                 \u001b[0;31m# to ndarray and maybe infer different dtype\u001b[0m\u001b[0;34m\u001b[0m\u001b[0;34m\u001b[0m\u001b[0m\n\u001b[1;32m   4138\u001b[0m                 \u001b[0mlevel_values\u001b[0m \u001b[0;34m=\u001b[0m \u001b[0m_maybe_casted_values\u001b[0m\u001b[0;34m(\u001b[0m\u001b[0mlev\u001b[0m\u001b[0;34m,\u001b[0m \u001b[0mlab\u001b[0m\u001b[0;34m)\u001b[0m\u001b[0;34m\u001b[0m\u001b[0m\n\u001b[0;32m-> 4139\u001b[0;31m                 \u001b[0mnew_obj\u001b[0m\u001b[0;34m.\u001b[0m\u001b[0minsert\u001b[0m\u001b[0;34m(\u001b[0m\u001b[0;36m0\u001b[0m\u001b[0;34m,\u001b[0m \u001b[0mname\u001b[0m\u001b[0;34m,\u001b[0m \u001b[0mlevel_values\u001b[0m\u001b[0;34m)\u001b[0m\u001b[0;34m\u001b[0m\u001b[0m\n\u001b[0m\u001b[1;32m   4140\u001b[0m \u001b[0;34m\u001b[0m\u001b[0m\n\u001b[1;32m   4141\u001b[0m         \u001b[0mnew_obj\u001b[0m\u001b[0;34m.\u001b[0m\u001b[0mindex\u001b[0m \u001b[0;34m=\u001b[0m \u001b[0mnew_index\u001b[0m\u001b[0;34m\u001b[0m\u001b[0m\n",
      "\u001b[0;32m/usr/local/lib/python3.5/dist-packages/pandas/core/frame.py\u001b[0m in \u001b[0;36minsert\u001b[0;34m(self, loc, column, value, allow_duplicates)\u001b[0m\n\u001b[1;32m   3220\u001b[0m         \u001b[0mvalue\u001b[0m \u001b[0;34m=\u001b[0m \u001b[0mself\u001b[0m\u001b[0;34m.\u001b[0m\u001b[0m_sanitize_column\u001b[0m\u001b[0;34m(\u001b[0m\u001b[0mcolumn\u001b[0m\u001b[0;34m,\u001b[0m \u001b[0mvalue\u001b[0m\u001b[0;34m,\u001b[0m \u001b[0mbroadcast\u001b[0m\u001b[0;34m=\u001b[0m\u001b[0;32mFalse\u001b[0m\u001b[0;34m)\u001b[0m\u001b[0;34m\u001b[0m\u001b[0m\n\u001b[1;32m   3221\u001b[0m         self._data.insert(loc, column, value,\n\u001b[0;32m-> 3222\u001b[0;31m                           allow_duplicates=allow_duplicates)\n\u001b[0m\u001b[1;32m   3223\u001b[0m \u001b[0;34m\u001b[0m\u001b[0m\n\u001b[1;32m   3224\u001b[0m     \u001b[0;32mdef\u001b[0m \u001b[0massign\u001b[0m\u001b[0;34m(\u001b[0m\u001b[0mself\u001b[0m\u001b[0;34m,\u001b[0m \u001b[0;34m**\u001b[0m\u001b[0mkwargs\u001b[0m\u001b[0;34m)\u001b[0m\u001b[0;34m:\u001b[0m\u001b[0;34m\u001b[0m\u001b[0m\n",
      "\u001b[0;32m/usr/local/lib/python3.5/dist-packages/pandas/core/internals.py\u001b[0m in \u001b[0;36minsert\u001b[0;34m(self, loc, item, value, allow_duplicates)\u001b[0m\n\u001b[1;32m   4336\u001b[0m         \u001b[0;32mif\u001b[0m \u001b[0;32mnot\u001b[0m \u001b[0mallow_duplicates\u001b[0m \u001b[0;32mand\u001b[0m \u001b[0mitem\u001b[0m \u001b[0;32min\u001b[0m \u001b[0mself\u001b[0m\u001b[0;34m.\u001b[0m\u001b[0mitems\u001b[0m\u001b[0;34m:\u001b[0m\u001b[0;34m\u001b[0m\u001b[0m\n\u001b[1;32m   4337\u001b[0m             \u001b[0;31m# Should this be a different kind of error??\u001b[0m\u001b[0;34m\u001b[0m\u001b[0;34m\u001b[0m\u001b[0m\n\u001b[0;32m-> 4338\u001b[0;31m             \u001b[0;32mraise\u001b[0m \u001b[0mValueError\u001b[0m\u001b[0;34m(\u001b[0m\u001b[0;34m'cannot insert {}, already exists'\u001b[0m\u001b[0;34m.\u001b[0m\u001b[0mformat\u001b[0m\u001b[0;34m(\u001b[0m\u001b[0mitem\u001b[0m\u001b[0;34m)\u001b[0m\u001b[0;34m)\u001b[0m\u001b[0;34m\u001b[0m\u001b[0m\n\u001b[0m\u001b[1;32m   4339\u001b[0m \u001b[0;34m\u001b[0m\u001b[0m\n\u001b[1;32m   4340\u001b[0m         \u001b[0;32mif\u001b[0m \u001b[0;32mnot\u001b[0m \u001b[0misinstance\u001b[0m\u001b[0;34m(\u001b[0m\u001b[0mloc\u001b[0m\u001b[0;34m,\u001b[0m \u001b[0mint\u001b[0m\u001b[0;34m)\u001b[0m\u001b[0;34m:\u001b[0m\u001b[0;34m\u001b[0m\u001b[0m\n",
      "\u001b[0;31mValueError\u001b[0m: cannot insert dtDeclaracaoDispensa, already exists"
     ]
    }
   ],
   "source": [
    "Query1_B.columns = ['Mês', 'Valor Médio ($)']\n",
    "Query1_B = Query1_B.reset_index()\n",
    "Query1_B.columns = ['Ano', 'Mês', 'Valor Médio ($)']"
   ]
  },
  {
   "cell_type": "code",
   "execution_count": 38,
   "metadata": {},
   "outputs": [
    {
     "data": {
      "text/html": [
       "<div>\n",
       "<style scoped>\n",
       "    .dataframe tbody tr th:only-of-type {\n",
       "        vertical-align: middle;\n",
       "    }\n",
       "\n",
       "    .dataframe tbody tr th {\n",
       "        vertical-align: top;\n",
       "    }\n",
       "\n",
       "    .dataframe thead th {\n",
       "        text-align: right;\n",
       "    }\n",
       "</style>\n",
       "<table border=\"1\" class=\"dataframe\">\n",
       "  <thead>\n",
       "    <tr style=\"text-align: right;\">\n",
       "      <th></th>\n",
       "      <th>Mês</th>\n",
       "      <th>Valor Médio ($)</th>\n",
       "    </tr>\n",
       "  </thead>\n",
       "  <tbody>\n",
       "    <tr>\n",
       "      <th>0</th>\n",
       "      <td>1</td>\n",
       "      <td>195948.945988</td>\n",
       "    </tr>\n",
       "    <tr>\n",
       "      <th>1</th>\n",
       "      <td>2</td>\n",
       "      <td>93144.493679</td>\n",
       "    </tr>\n",
       "    <tr>\n",
       "      <th>2</th>\n",
       "      <td>3</td>\n",
       "      <td>71629.540915</td>\n",
       "    </tr>\n",
       "    <tr>\n",
       "      <th>3</th>\n",
       "      <td>4</td>\n",
       "      <td>84340.612747</td>\n",
       "    </tr>\n",
       "    <tr>\n",
       "      <th>4</th>\n",
       "      <td>5</td>\n",
       "      <td>64426.933725</td>\n",
       "    </tr>\n",
       "    <tr>\n",
       "      <th>5</th>\n",
       "      <td>6</td>\n",
       "      <td>52423.678092</td>\n",
       "    </tr>\n",
       "    <tr>\n",
       "      <th>6</th>\n",
       "      <td>7</td>\n",
       "      <td>51954.324552</td>\n",
       "    </tr>\n",
       "    <tr>\n",
       "      <th>7</th>\n",
       "      <td>8</td>\n",
       "      <td>103232.421409</td>\n",
       "    </tr>\n",
       "    <tr>\n",
       "      <th>8</th>\n",
       "      <td>9</td>\n",
       "      <td>57445.883191</td>\n",
       "    </tr>\n",
       "    <tr>\n",
       "      <th>9</th>\n",
       "      <td>10</td>\n",
       "      <td>54811.176088</td>\n",
       "    </tr>\n",
       "    <tr>\n",
       "      <th>10</th>\n",
       "      <td>11</td>\n",
       "      <td>88288.283873</td>\n",
       "    </tr>\n",
       "    <tr>\n",
       "      <th>11</th>\n",
       "      <td>12</td>\n",
       "      <td>150198.732384</td>\n",
       "    </tr>\n",
       "  </tbody>\n",
       "</table>\n",
       "</div>"
      ],
      "text/plain": [
       "    Mês  Valor Médio ($)\n",
       "0     1    195948.945988\n",
       "1     2     93144.493679\n",
       "2     3     71629.540915\n",
       "3     4     84340.612747\n",
       "4     5     64426.933725\n",
       "5     6     52423.678092\n",
       "6     7     51954.324552\n",
       "7     8    103232.421409\n",
       "8     9     57445.883191\n",
       "9    10     54811.176088\n",
       "10   11     88288.283873\n",
       "11   12    150198.732384"
      ]
     },
     "execution_count": 38,
     "metadata": {},
     "output_type": "execute_result"
    }
   ],
   "source": []
  },
  {
   "cell_type": "code",
   "execution_count": null,
   "metadata": {},
   "outputs": [],
   "source": []
  },
  {
   "cell_type": "code",
   "execution_count": null,
   "metadata": {},
   "outputs": [],
   "source": [
    "csv_file = 'data/compras_slicitacoes.csv'\n",
    "original_df = pd.read_csv(csv_file)"
   ]
  },
  {
   "cell_type": "code",
   "execution_count": 3,
   "metadata": {},
   "outputs": [],
   "source": [
    "slice1 = original_df[(original_df.dtDeclaracaoDispensa >= '2016-01-01') & (original_df.dtDeclaracaoDispensa < '2017-01-01') ]"
   ]
  },
  {
   "cell_type": "code",
   "execution_count": 4,
   "metadata": {},
   "outputs": [],
   "source": [
    "slice1.to_csv('data/compras_slicitacoes_2017.csv', sep = ';')"
   ]
  },
  {
   "cell_type": "code",
   "execution_count": 5,
   "metadata": {},
   "outputs": [
    {
     "data": {
      "text/plain": [
       "(131136, 17)"
      ]
     },
     "execution_count": 5,
     "metadata": {},
     "output_type": "execute_result"
    }
   ],
   "source": [
    "slice1.shape"
   ]
  },
  {
   "cell_type": "code",
   "execution_count": 8,
   "metadata": {},
   "outputs": [],
   "source": [
    "del slice1"
   ]
  },
  {
   "cell_type": "code",
   "execution_count": null,
   "metadata": {},
   "outputs": [],
   "source": [
    "# slice2 = original_df[(original_df.dtDeclaracaoDispensa >= '2016-01-01') & (original_df.dtDeclaracaoDispensa < '2019-01-01') ]"
   ]
  },
  {
   "cell_type": "code",
   "execution_count": 25,
   "metadata": {},
   "outputs": [
    {
     "data": {
      "text/plain": [
       "(399180, 17)"
      ]
     },
     "execution_count": 25,
     "metadata": {},
     "output_type": "execute_result"
    }
   ],
   "source": [
    "slice2.shape"
   ]
  },
  {
   "cell_type": "code",
   "execution_count": 9,
   "metadata": {},
   "outputs": [],
   "source": [
    "top100_series = DataAnalysis.df.nlargest(100, ['vr_estimado']).copy()"
   ]
  },
  {
   "cell_type": "code",
   "execution_count": 10,
   "metadata": {},
   "outputs": [],
   "source": [
    "top100_df = original_df.iloc[top100_series.id]"
   ]
  },
  {
   "cell_type": "code",
   "execution_count": 11,
   "metadata": {},
   "outputs": [
    {
     "data": {
      "text/html": [
       "<div>\n",
       "<style scoped>\n",
       "    .dataframe tbody tr th:only-of-type {\n",
       "        vertical-align: middle;\n",
       "    }\n",
       "\n",
       "    .dataframe tbody tr th {\n",
       "        vertical-align: top;\n",
       "    }\n",
       "\n",
       "    .dataframe thead th {\n",
       "        text-align: right;\n",
       "    }\n",
       "</style>\n",
       "<table border=\"1\" class=\"dataframe\">\n",
       "  <thead>\n",
       "    <tr style=\"text-align: right;\">\n",
       "      <th></th>\n",
       "      <th>Unnamed: 0</th>\n",
       "      <th>co_modalidade_licitacao</th>\n",
       "      <th>co_orgao</th>\n",
       "      <th>co_uasg</th>\n",
       "      <th>ds_fundamento_legal</th>\n",
       "      <th>ds_justificativa</th>\n",
       "      <th>ds_objeto_licitacao</th>\n",
       "      <th>dtDeclaracaoDispensa</th>\n",
       "      <th>dtPublicacao</th>\n",
       "      <th>dtRatificacao</th>\n",
       "      <th>no_cargo_resp_decl_disp</th>\n",
       "      <th>no_cargo_resp_ratificacao</th>\n",
       "      <th>no_responsavel_decl_disp</th>\n",
       "      <th>no_responsavel_ratificacao</th>\n",
       "      <th>nu_inciso</th>\n",
       "      <th>nu_processo</th>\n",
       "      <th>vr_estimado</th>\n",
       "    </tr>\n",
       "  </thead>\n",
       "  <tbody>\n",
       "    <tr>\n",
       "      <th>303863</th>\n",
       "      <td>303863</td>\n",
       "      <td>7</td>\n",
       "      <td>52121</td>\n",
       "      <td>160399</td>\n",
       "      <td>Fundamento Legal: Artigo 25  ,  Caput  , da Le...</td>\n",
       "      <td>Justificativa: Competi§¥o © invi¤vel, uma vez ...</td>\n",
       "      <td>Objeto: Presta§¥o de servi§o de diagnìstico por</td>\n",
       "      <td>2005-08-01T00:00:00</td>\n",
       "      <td>2005-08-23T00:00:00</td>\n",
       "      <td>2005-08-03T00:00:00</td>\n",
       "      <td>Ordenador de Despesas do HGePA</td>\n",
       "      <td>Comandante da 3  Regi¥o Militar</td>\n",
       "      <td>GILMAR CORREA DE FIGUEIREDO</td>\n",
       "      <td>MARCO ANTONIO LONGO</td>\n",
       "      <td>0</td>\n",
       "      <td>INEX006/2005</td>\n",
       "      <td>1.800000e+10</td>\n",
       "    </tr>\n",
       "    <tr>\n",
       "      <th>416222</th>\n",
       "      <td>416222</td>\n",
       "      <td>7</td>\n",
       "      <td>52111</td>\n",
       "      <td>120006</td>\n",
       "      <td>Fundamento Legal: Art. 25Ì, Caput da Lei nÌ 8....</td>\n",
       "      <td>Justificativa: Conforme Ata de Acordo nÊ004/DC...</td>\n",
       "      <td>Objeto: Aquisi§¥o de materiais e presta§¥o de ...</td>\n",
       "      <td>2014-05-16T00:00:00</td>\n",
       "      <td>2014-05-22T00:00:00</td>\n",
       "      <td>2014-05-21T00:00:00</td>\n",
       "      <td>Ordenador de Despesas Copac</td>\n",
       "      <td>Comandante da Aeron¤utica</td>\n",
       "      <td>JOSE AUGUSTO CREPALDI AFFONSO</td>\n",
       "      <td>JUNITI SAITO</td>\n",
       "      <td>0</td>\n",
       "      <td>008-13/COPAC</td>\n",
       "      <td>7.255869e+09</td>\n",
       "    </tr>\n",
       "    <tr>\n",
       "      <th>688924</th>\n",
       "      <td>688924</td>\n",
       "      <td>7</td>\n",
       "      <td>52121</td>\n",
       "      <td>160069</td>\n",
       "      <td>Fundamento Legal: Art. 25Ì, Inciso I da Lei nÌ...</td>\n",
       "      <td>Justificativa: Inviabilidade de competi§¥o</td>\n",
       "      <td>Objeto: Aquisi§¥o de viatura blindada Guarani</td>\n",
       "      <td>2016-11-18T00:00:00</td>\n",
       "      <td>2016-11-21T00:00:00</td>\n",
       "      <td>2016-11-18T00:00:00</td>\n",
       "      <td>Ordenador de Despesas Substituto</td>\n",
       "      <td>Comandante Log­stico</td>\n",
       "      <td>MARCELO MORAES RODRIGUES</td>\n",
       "      <td>GUILHERME CALS THEOPHILO GASPAR DE OLIVEIRA</td>\n",
       "      <td>1</td>\n",
       "      <td>64447011981201620</td>\n",
       "      <td>5.939680e+09</td>\n",
       "    </tr>\n",
       "    <tr>\n",
       "      <th>547988</th>\n",
       "      <td>547988</td>\n",
       "      <td>7</td>\n",
       "      <td>52121</td>\n",
       "      <td>160085</td>\n",
       "      <td>Fundamento Legal: Artigo 25, inciso I, da Lei ...</td>\n",
       "      <td>Justificativa: I- A empresa © produtora exclus...</td>\n",
       "      <td>¥o do Ex©rcito Brasileiro, em conformidade com...</td>\n",
       "      <td>2009-12-15T00:00:00</td>\n",
       "      <td>2009-12-18T00:00:00</td>\n",
       "      <td>2009-12-16T00:00:00</td>\n",
       "      <td>Ordenador de Despesas do EME</td>\n",
       "      <td>Chefe de Gabinete do Estado-Maior do Exercito</td>\n",
       "      <td>CARLOS ALBERTO PASSARELLA ARANTES - CEL</td>\n",
       "      <td>GEN BDA CARLOS ROBERTO DE SOUSA PEIXOTO</td>\n",
       "      <td>1</td>\n",
       "      <td>12/200-EME</td>\n",
       "      <td>5.443227e+09</td>\n",
       "    </tr>\n",
       "    <tr>\n",
       "      <th>1443714</th>\n",
       "      <td>1443714</td>\n",
       "      <td>7</td>\n",
       "      <td>26239</td>\n",
       "      <td>150220</td>\n",
       "      <td>Fundamento Legal: Art. 25Ì, Caput da Lei nÌ 8....</td>\n",
       "      <td>Justificativa: Fornecimento de PROTESE PARA IM...</td>\n",
       "      <td>Objeto: Fornecimento de PRøTESE PARA IMPLANTE ...</td>\n",
       "      <td>2016-01-04T00:00:00</td>\n",
       "      <td>2016-01-20T00:00:00</td>\n",
       "      <td>2016-01-04T00:00:00</td>\n",
       "      <td>Coordenador Administrativo</td>\n",
       "      <td>Diretor Geral</td>\n",
       "      <td>CELIO D ALBUQUERQUE NEVES FILHO</td>\n",
       "      <td>PAULO ROBERTO ALVES DE AMORIM</td>\n",
       "      <td>0</td>\n",
       "      <td>026380/2015</td>\n",
       "      <td>5.259618e+09</td>\n",
       "    </tr>\n",
       "  </tbody>\n",
       "</table>\n",
       "</div>"
      ],
      "text/plain": [
       "         Unnamed: 0  co_modalidade_licitacao  co_orgao  co_uasg  \\\n",
       "303863       303863                        7     52121   160399   \n",
       "416222       416222                        7     52111   120006   \n",
       "688924       688924                        7     52121   160069   \n",
       "547988       547988                        7     52121   160085   \n",
       "1443714     1443714                        7     26239   150220   \n",
       "\n",
       "                                       ds_fundamento_legal  \\\n",
       "303863   Fundamento Legal: Artigo 25  ,  Caput  , da Le...   \n",
       "416222   Fundamento Legal: Art. 25Ì, Caput da Lei nÌ 8....   \n",
       "688924   Fundamento Legal: Art. 25Ì, Inciso I da Lei nÌ...   \n",
       "547988   Fundamento Legal: Artigo 25, inciso I, da Lei ...   \n",
       "1443714  Fundamento Legal: Art. 25Ì, Caput da Lei nÌ 8....   \n",
       "\n",
       "                                          ds_justificativa  \\\n",
       "303863   Justificativa: Competi§¥o © invi¤vel, uma vez ...   \n",
       "416222   Justificativa: Conforme Ata de Acordo nÊ004/DC...   \n",
       "688924          Justificativa: Inviabilidade de competi§¥o   \n",
       "547988   Justificativa: I- A empresa © produtora exclus...   \n",
       "1443714  Justificativa: Fornecimento de PROTESE PARA IM...   \n",
       "\n",
       "                                       ds_objeto_licitacao  \\\n",
       "303863    Objeto: Presta§¥o de servi§o de diagnìstico por    \n",
       "416222   Objeto: Aquisi§¥o de materiais e presta§¥o de ...   \n",
       "688924      Objeto: Aquisi§¥o de viatura blindada Guarani    \n",
       "547988   ¥o do Ex©rcito Brasileiro, em conformidade com...   \n",
       "1443714  Objeto: Fornecimento de PRøTESE PARA IMPLANTE ...   \n",
       "\n",
       "        dtDeclaracaoDispensa         dtPublicacao        dtRatificacao  \\\n",
       "303863   2005-08-01T00:00:00  2005-08-23T00:00:00  2005-08-03T00:00:00   \n",
       "416222   2014-05-16T00:00:00  2014-05-22T00:00:00  2014-05-21T00:00:00   \n",
       "688924   2016-11-18T00:00:00  2016-11-21T00:00:00  2016-11-18T00:00:00   \n",
       "547988   2009-12-15T00:00:00  2009-12-18T00:00:00  2009-12-16T00:00:00   \n",
       "1443714  2016-01-04T00:00:00  2016-01-20T00:00:00  2016-01-04T00:00:00   \n",
       "\n",
       "                  no_cargo_resp_decl_disp  \\\n",
       "303863     Ordenador de Despesas do HGePA   \n",
       "416222        Ordenador de Despesas Copac   \n",
       "688924   Ordenador de Despesas Substituto   \n",
       "547988       Ordenador de Despesas do EME   \n",
       "1443714        Coordenador Administrativo   \n",
       "\n",
       "                             no_cargo_resp_ratificacao  \\\n",
       "303863                 Comandante da 3  Regi¥o Militar   \n",
       "416222                       Comandante da Aeron¤utica   \n",
       "688924                            Comandante Log­stico   \n",
       "547988   Chefe de Gabinete do Estado-Maior do Exercito   \n",
       "1443714                                  Diretor Geral   \n",
       "\n",
       "                        no_responsavel_decl_disp  \\\n",
       "303863               GILMAR CORREA DE FIGUEIREDO   \n",
       "416222             JOSE AUGUSTO CREPALDI AFFONSO   \n",
       "688924                  MARCELO MORAES RODRIGUES   \n",
       "547988   CARLOS ALBERTO PASSARELLA ARANTES - CEL   \n",
       "1443714          CELIO D ALBUQUERQUE NEVES FILHO   \n",
       "\n",
       "                          no_responsavel_ratificacao  nu_inciso  \\\n",
       "303863                           MARCO ANTONIO LONGO          0   \n",
       "416222                                  JUNITI SAITO          0   \n",
       "688924   GUILHERME CALS THEOPHILO GASPAR DE OLIVEIRA          1   \n",
       "547988       GEN BDA CARLOS ROBERTO DE SOUSA PEIXOTO          1   \n",
       "1443714                PAULO ROBERTO ALVES DE AMORIM          0   \n",
       "\n",
       "               nu_processo   vr_estimado  \n",
       "303863        INEX006/2005  1.800000e+10  \n",
       "416222        008-13/COPAC  7.255869e+09  \n",
       "688924   64447011981201620  5.939680e+09  \n",
       "547988          12/200-EME  5.443227e+09  \n",
       "1443714        026380/2015  5.259618e+09  "
      ]
     },
     "execution_count": 11,
     "metadata": {},
     "output_type": "execute_result"
    }
   ],
   "source": [
    "top100_df.head()"
   ]
  },
  {
   "cell_type": "code",
   "execution_count": 12,
   "metadata": {},
   "outputs": [
    {
     "name": "stderr",
     "output_type": "stream",
     "text": [
      "/usr/local/lib/python3.5/dist-packages/pandas/core/indexing.py:543: SettingWithCopyWarning: \n",
      "A value is trying to be set on a copy of a slice from a DataFrame.\n",
      "Try using .loc[row_indexer,col_indexer] = value instead\n",
      "\n",
      "See the caveats in the documentation: http://pandas.pydata.org/pandas-docs/stable/indexing.html#indexing-view-versus-copy\n",
      "  self.obj[item] = s\n"
     ]
    }
   ],
   "source": [
    "top100_df.loc[top100_df.index, 'ds_justificativa'] = top100_df.ds_justificativa.str.replace('§', 'ç')\n",
    "top100_df.loc[top100_df.index, 'ds_justificativa'] = top100_df.ds_justificativa.str.replace('¥', 'ã')\n",
    "top100_df.loc[top100_df.index, 'ds_justificativa'] = top100_df.ds_justificativa.str.replace('©', 'é')\n",
    "top100_df.loc[top100_df.index, 'ds_justificativa'] = top100_df.ds_justificativa.str.replace('Ê', 'º')\n",
    "top100_df.loc[top100_df.index, 'ds_justificativa'] = top100_df.ds_justificativa.str.replace('¤', 'á')\n",
    "top100_df.loc[top100_df.index, 'ds_justificativa'] = top100_df.ds_justificativa.str.replace('Ì', 'º')\n",
    "top100_df.loc[top100_df.index, 'ds_justificativa'] = top100_df.ds_justificativa.str.replace('ø', 'Ó')\n",
    "\n",
    "top100_df.loc[top100_df.index, 'ds_fundamento_legal'] = top100_df.ds_fundamento_legal.str.replace('§', 'ç')\n",
    "top100_df.loc[top100_df.index, 'ds_fundamento_legal'] = top100_df.ds_fundamento_legal.str.replace('¥', 'ã')\n",
    "top100_df.loc[top100_df.index, 'ds_fundamento_legal'] = top100_df.ds_fundamento_legal.str.replace('©', 'é')\n",
    "top100_df.loc[top100_df.index, 'ds_fundamento_legal'] = top100_df.ds_fundamento_legal.str.replace('Ê', 'º')\n",
    "top100_df.loc[top100_df.index, 'ds_fundamento_legal'] = top100_df.ds_fundamento_legal.str.replace('¤', 'á')\n",
    "top100_df.loc[top100_df.index, 'ds_fundamento_legal'] = top100_df.ds_fundamento_legal.str.replace('Ì', 'º')\n",
    "top100_df.loc[top100_df.index, 'ds_fundamento_legal'] = top100_df.ds_fundamento_legal.str.replace('ø', 'Ó')\n",
    "\n",
    "top100_df.loc[top100_df.index, 'ds_objeto_licitacao'] = top100_df.ds_objeto_licitacao.str.replace('§', 'ç')\n",
    "top100_df.loc[top100_df.index, 'ds_objeto_licitacao'] = top100_df.ds_objeto_licitacao.str.replace('¥', 'ã')\n",
    "top100_df.loc[top100_df.index, 'ds_objeto_licitacao'] = top100_df.ds_objeto_licitacao.str.replace('©', 'é')\n",
    "top100_df.loc[top100_df.index, 'ds_objeto_licitacao'] = top100_df.ds_objeto_licitacao.str.replace('Ê', 'º')\n",
    "top100_df.loc[top100_df.index, 'ds_objeto_licitacao'] = top100_df.ds_objeto_licitacao.str.replace('¤', 'á')\n",
    "top100_df.loc[top100_df.index, 'ds_objeto_licitacao'] = top100_df.ds_objeto_licitacao.str.replace('Ì', 'º')\n",
    "top100_df.loc[top100_df.index, 'ds_objeto_licitacao'] = top100_df.ds_objeto_licitacao.str.replace('ø', 'Ó')\n"
   ]
  },
  {
   "cell_type": "code",
   "execution_count": 13,
   "metadata": {},
   "outputs": [
    {
     "name": "stderr",
     "output_type": "stream",
     "text": [
      "/usr/local/lib/python3.5/dist-packages/ipykernel_launcher.py:7: SettingWithCopyWarning: \n",
      "A value is trying to be set on a copy of a slice from a DataFrame.\n",
      "Try using .loc[row_indexer,col_indexer] = value instead\n",
      "\n",
      "See the caveats in the documentation: http://pandas.pydata.org/pandas-docs/stable/indexing.html#indexing-view-versus-copy\n",
      "  import sys\n",
      "/usr/local/lib/python3.5/dist-packages/ipykernel_launcher.py:8: SettingWithCopyWarning: \n",
      "A value is trying to be set on a copy of a slice from a DataFrame.\n",
      "Try using .loc[row_indexer,col_indexer] = value instead\n",
      "\n",
      "See the caveats in the documentation: http://pandas.pydata.org/pandas-docs/stable/indexing.html#indexing-view-versus-copy\n",
      "  \n",
      "/usr/local/lib/python3.5/dist-packages/ipykernel_launcher.py:9: SettingWithCopyWarning: \n",
      "A value is trying to be set on a copy of a slice from a DataFrame.\n",
      "Try using .loc[row_indexer,col_indexer] = value instead\n",
      "\n",
      "See the caveats in the documentation: http://pandas.pydata.org/pandas-docs/stable/indexing.html#indexing-view-versus-copy\n",
      "  if __name__ == '__main__':\n"
     ]
    }
   ],
   "source": [
    "orgao = pd.read_csv('data/orgaos.csv')\n",
    "orgao_name = [orgao[orgao['codigo'] == c].nome.values[0] for c in top100_df.co_orgao]\n",
    "\n",
    "uasgs = pd.read_csv('data/uasgs.csv')\n",
    "uasgs_name = [uasgs[uasgs['id'] == c].nome.values[0] for c in top100_df.co_uasg]\n",
    "\n",
    "top100_df['uasg'] = uasgs_name\n",
    "top100_df['orgao'] = orgao_name\n",
    "top100_df['dates'] = top100_series['dates'].values\n",
    "\n",
    "top100_df = top100_df[\n",
    "    ['dates', \n",
    "     'orgao', \n",
    "     'uasg', \n",
    "     'ds_fundamento_legal', \n",
    "     'ds_justificativa', \n",
    "     'ds_objeto_licitacao', \n",
    "     'no_cargo_resp_decl_disp',\n",
    "     'no_responsavel_decl_disp', \n",
    "     'vr_estimado']\n",
    "]"
   ]
  },
  {
   "cell_type": "code",
   "execution_count": 14,
   "metadata": {},
   "outputs": [
    {
     "data": {
      "text/html": [
       "<div>\n",
       "<style scoped>\n",
       "    .dataframe tbody tr th:only-of-type {\n",
       "        vertical-align: middle;\n",
       "    }\n",
       "\n",
       "    .dataframe tbody tr th {\n",
       "        vertical-align: top;\n",
       "    }\n",
       "\n",
       "    .dataframe thead th {\n",
       "        text-align: right;\n",
       "    }\n",
       "</style>\n",
       "<table border=\"1\" class=\"dataframe\">\n",
       "  <thead>\n",
       "    <tr style=\"text-align: right;\">\n",
       "      <th></th>\n",
       "      <th>dates</th>\n",
       "      <th>orgao</th>\n",
       "      <th>uasg</th>\n",
       "      <th>ds_fundamento_legal</th>\n",
       "      <th>ds_justificativa</th>\n",
       "      <th>ds_objeto_licitacao</th>\n",
       "      <th>no_cargo_resp_decl_disp</th>\n",
       "      <th>no_responsavel_decl_disp</th>\n",
       "      <th>vr_estimado</th>\n",
       "    </tr>\n",
       "  </thead>\n",
       "  <tbody>\n",
       "    <tr>\n",
       "      <th>303863</th>\n",
       "      <td>2005-08-01</td>\n",
       "      <td>COMANDO DO EXERCITO</td>\n",
       "      <td>HOSPITAL MILITAR DE ÁREA DE PORTO ALEGRE</td>\n",
       "      <td>Fundamento Legal: Artigo 25  ,  Caput  , da Le...</td>\n",
       "      <td>Justificativa: Competição é inviável, uma vez ...</td>\n",
       "      <td>Objeto: Prestação de serviço de diagnìstico por</td>\n",
       "      <td>Ordenador de Despesas do HGePA</td>\n",
       "      <td>GILMAR CORREA DE FIGUEIREDO</td>\n",
       "      <td>1.800000e+10</td>\n",
       "    </tr>\n",
       "    <tr>\n",
       "      <th>416222</th>\n",
       "      <td>2014-05-16</td>\n",
       "      <td>COMANDO DA AERONAUTICA</td>\n",
       "      <td>MAER-GAPBR-GRUPAMENTO DE APOIO DE BRASILIA/DF</td>\n",
       "      <td>Fundamento Legal: Art. 25º, Caput da Lei nº 8....</td>\n",
       "      <td>Justificativa: Conforme Ata de Acordo nº004/DC...</td>\n",
       "      <td>Objeto: Aquisição de materiais e prestação de ...</td>\n",
       "      <td>Ordenador de Despesas Copac</td>\n",
       "      <td>JOSE AUGUSTO CREPALDI AFFONSO</td>\n",
       "      <td>7.255869e+09</td>\n",
       "    </tr>\n",
       "    <tr>\n",
       "      <th>688924</th>\n",
       "      <td>2016-11-18</td>\n",
       "      <td>COMANDO DO EXERCITO</td>\n",
       "      <td>COMANDO LOGISTICO</td>\n",
       "      <td>Fundamento Legal: Art. 25º, Inciso I da Lei nº...</td>\n",
       "      <td>Justificativa: Inviabilidade de competição</td>\n",
       "      <td>Objeto: Aquisição de viatura blindada Guarani</td>\n",
       "      <td>Ordenador de Despesas Substituto</td>\n",
       "      <td>MARCELO MORAES RODRIGUES</td>\n",
       "      <td>5.939680e+09</td>\n",
       "    </tr>\n",
       "    <tr>\n",
       "      <th>547988</th>\n",
       "      <td>2009-12-15</td>\n",
       "      <td>COMANDO DO EXERCITO</td>\n",
       "      <td>ESTADO-MAIOR DO EXERCITO-MEX/DF</td>\n",
       "      <td>Fundamento Legal: Artigo 25, inciso I, da Lei ...</td>\n",
       "      <td>Justificativa: I- A empresa é produtora exclus...</td>\n",
       "      <td>ão do Exército Brasileiro, em conformidade com...</td>\n",
       "      <td>Ordenador de Despesas do EME</td>\n",
       "      <td>CARLOS ALBERTO PASSARELLA ARANTES - CEL</td>\n",
       "      <td>5.443227e+09</td>\n",
       "    </tr>\n",
       "    <tr>\n",
       "      <th>1443714</th>\n",
       "      <td>2016-01-04</td>\n",
       "      <td>UNIVERSIDADE FEDERAL DO PARA</td>\n",
       "      <td>HOSPITAL UNIVERSITÁRIO BETINA FERRO E SOUZA</td>\n",
       "      <td>Fundamento Legal: Art. 25º, Caput da Lei nº 8....</td>\n",
       "      <td>Justificativa: Fornecimento de PROTESE PARA IM...</td>\n",
       "      <td>Objeto: Fornecimento de PRÓTESE PARA IMPLANTE ...</td>\n",
       "      <td>Coordenador Administrativo</td>\n",
       "      <td>CELIO D ALBUQUERQUE NEVES FILHO</td>\n",
       "      <td>5.259618e+09</td>\n",
       "    </tr>\n",
       "  </tbody>\n",
       "</table>\n",
       "</div>"
      ],
      "text/plain": [
       "             dates                         orgao  \\\n",
       "303863  2005-08-01           COMANDO DO EXERCITO   \n",
       "416222  2014-05-16        COMANDO DA AERONAUTICA   \n",
       "688924  2016-11-18           COMANDO DO EXERCITO   \n",
       "547988  2009-12-15           COMANDO DO EXERCITO   \n",
       "1443714 2016-01-04  UNIVERSIDADE FEDERAL DO PARA   \n",
       "\n",
       "                                                  uasg  \\\n",
       "303863        HOSPITAL MILITAR DE ÁREA DE PORTO ALEGRE   \n",
       "416222   MAER-GAPBR-GRUPAMENTO DE APOIO DE BRASILIA/DF   \n",
       "688924                               COMANDO LOGISTICO   \n",
       "547988                 ESTADO-MAIOR DO EXERCITO-MEX/DF   \n",
       "1443714    HOSPITAL UNIVERSITÁRIO BETINA FERRO E SOUZA   \n",
       "\n",
       "                                       ds_fundamento_legal  \\\n",
       "303863   Fundamento Legal: Artigo 25  ,  Caput  , da Le...   \n",
       "416222   Fundamento Legal: Art. 25º, Caput da Lei nº 8....   \n",
       "688924   Fundamento Legal: Art. 25º, Inciso I da Lei nº...   \n",
       "547988   Fundamento Legal: Artigo 25, inciso I, da Lei ...   \n",
       "1443714  Fundamento Legal: Art. 25º, Caput da Lei nº 8....   \n",
       "\n",
       "                                          ds_justificativa  \\\n",
       "303863   Justificativa: Competição é inviável, uma vez ...   \n",
       "416222   Justificativa: Conforme Ata de Acordo nº004/DC...   \n",
       "688924          Justificativa: Inviabilidade de competição   \n",
       "547988   Justificativa: I- A empresa é produtora exclus...   \n",
       "1443714  Justificativa: Fornecimento de PROTESE PARA IM...   \n",
       "\n",
       "                                       ds_objeto_licitacao  \\\n",
       "303863    Objeto: Prestação de serviço de diagnìstico por    \n",
       "416222   Objeto: Aquisição de materiais e prestação de ...   \n",
       "688924      Objeto: Aquisição de viatura blindada Guarani    \n",
       "547988   ão do Exército Brasileiro, em conformidade com...   \n",
       "1443714  Objeto: Fornecimento de PRÓTESE PARA IMPLANTE ...   \n",
       "\n",
       "                  no_cargo_resp_decl_disp  \\\n",
       "303863     Ordenador de Despesas do HGePA   \n",
       "416222        Ordenador de Despesas Copac   \n",
       "688924   Ordenador de Despesas Substituto   \n",
       "547988       Ordenador de Despesas do EME   \n",
       "1443714        Coordenador Administrativo   \n",
       "\n",
       "                        no_responsavel_decl_disp   vr_estimado  \n",
       "303863               GILMAR CORREA DE FIGUEIREDO  1.800000e+10  \n",
       "416222             JOSE AUGUSTO CREPALDI AFFONSO  7.255869e+09  \n",
       "688924                  MARCELO MORAES RODRIGUES  5.939680e+09  \n",
       "547988   CARLOS ALBERTO PASSARELLA ARANTES - CEL  5.443227e+09  \n",
       "1443714          CELIO D ALBUQUERQUE NEVES FILHO  5.259618e+09  "
      ]
     },
     "execution_count": 14,
     "metadata": {},
     "output_type": "execute_result"
    }
   ],
   "source": [
    "top100_df.head()"
   ]
  },
  {
   "cell_type": "code",
   "execution_count": 15,
   "metadata": {},
   "outputs": [],
   "source": [
    "string_columns = ['orgao',\n",
    "                  'uasg',\n",
    "                  'ds_fundamento_legal',\n",
    "                  'ds_justificativa',\n",
    "                  'ds_objeto_licitacao',\n",
    "                  'no_cargo_resp_decl_disp',\n",
    "                  'no_responsavel_decl_disp'\n",
    "                 ]\n",
    "\n",
    "for var in string_columns:\n",
    "    top100_df[var] = [unidecode(w) for w in top100_df[var].values]"
   ]
  },
  {
   "cell_type": "code",
   "execution_count": 16,
   "metadata": {},
   "outputs": [],
   "source": [
    "top100_df['dates'] = top100_df.dates.astype(str)"
   ]
  },
  {
   "cell_type": "code",
   "execution_count": 17,
   "metadata": {},
   "outputs": [
    {
     "data": {
      "text/html": [
       "<div>\n",
       "<style scoped>\n",
       "    .dataframe tbody tr th:only-of-type {\n",
       "        vertical-align: middle;\n",
       "    }\n",
       "\n",
       "    .dataframe tbody tr th {\n",
       "        vertical-align: top;\n",
       "    }\n",
       "\n",
       "    .dataframe thead th {\n",
       "        text-align: right;\n",
       "    }\n",
       "</style>\n",
       "<table border=\"1\" class=\"dataframe\">\n",
       "  <thead>\n",
       "    <tr style=\"text-align: right;\">\n",
       "      <th></th>\n",
       "      <th>dates</th>\n",
       "      <th>orgao</th>\n",
       "      <th>uasg</th>\n",
       "      <th>ds_fundamento_legal</th>\n",
       "      <th>ds_justificativa</th>\n",
       "      <th>ds_objeto_licitacao</th>\n",
       "      <th>no_cargo_resp_decl_disp</th>\n",
       "      <th>no_responsavel_decl_disp</th>\n",
       "      <th>vr_estimado</th>\n",
       "    </tr>\n",
       "  </thead>\n",
       "  <tbody>\n",
       "    <tr>\n",
       "      <th>303863</th>\n",
       "      <td>2005-08-01</td>\n",
       "      <td>COMANDO DO EXERCITO</td>\n",
       "      <td>HOSPITAL MILITAR DE AREA DE PORTO ALEGRE</td>\n",
       "      <td>Fundamento Legal: Artigo 25  ,  Caput  , da Le...</td>\n",
       "      <td>Justificativa: Competicao e inviavel, uma vez ...</td>\n",
       "      <td>Objeto: Prestacao de servico de diagnistico por</td>\n",
       "      <td>Ordenador de Despesas do HGePA</td>\n",
       "      <td>GILMAR CORREA DE FIGUEIREDO</td>\n",
       "      <td>1.800000e+10</td>\n",
       "    </tr>\n",
       "    <tr>\n",
       "      <th>416222</th>\n",
       "      <td>2014-05-16</td>\n",
       "      <td>COMANDO DA AERONAUTICA</td>\n",
       "      <td>MAER-GAPBR-GRUPAMENTO DE APOIO DE BRASILIA/DF</td>\n",
       "      <td>Fundamento Legal: Art. 25o, Caput da Lei no 8....</td>\n",
       "      <td>Justificativa: Conforme Ata de Acordo no004/DC...</td>\n",
       "      <td>Objeto: Aquisicao de materiais e prestacao de ...</td>\n",
       "      <td>Ordenador de Despesas Copac</td>\n",
       "      <td>JOSE AUGUSTO CREPALDI AFFONSO</td>\n",
       "      <td>7.255869e+09</td>\n",
       "    </tr>\n",
       "    <tr>\n",
       "      <th>688924</th>\n",
       "      <td>2016-11-18</td>\n",
       "      <td>COMANDO DO EXERCITO</td>\n",
       "      <td>COMANDO LOGISTICO</td>\n",
       "      <td>Fundamento Legal: Art. 25o, Inciso I da Lei no...</td>\n",
       "      <td>Justificativa: Inviabilidade de competicao</td>\n",
       "      <td>Objeto: Aquisicao de viatura blindada Guarani</td>\n",
       "      <td>Ordenador de Despesas Substituto</td>\n",
       "      <td>MARCELO MORAES RODRIGUES</td>\n",
       "      <td>5.939680e+09</td>\n",
       "    </tr>\n",
       "    <tr>\n",
       "      <th>547988</th>\n",
       "      <td>2009-12-15</td>\n",
       "      <td>COMANDO DO EXERCITO</td>\n",
       "      <td>ESTADO-MAIOR DO EXERCITO-MEX/DF</td>\n",
       "      <td>Fundamento Legal: Artigo 25, inciso I, da Lei ...</td>\n",
       "      <td>Justificativa: I- A empresa e produtora exclus...</td>\n",
       "      <td>ao do Exercito Brasileiro, em conformidade com...</td>\n",
       "      <td>Ordenador de Despesas do EME</td>\n",
       "      <td>CARLOS ALBERTO PASSARELLA ARANTES - CEL</td>\n",
       "      <td>5.443227e+09</td>\n",
       "    </tr>\n",
       "    <tr>\n",
       "      <th>1443714</th>\n",
       "      <td>2016-01-04</td>\n",
       "      <td>UNIVERSIDADE FEDERAL DO PARA</td>\n",
       "      <td>HOSPITAL UNIVERSITARIO BETINA FERRO E SOUZA</td>\n",
       "      <td>Fundamento Legal: Art. 25o, Caput da Lei no 8....</td>\n",
       "      <td>Justificativa: Fornecimento de PROTESE PARA IM...</td>\n",
       "      <td>Objeto: Fornecimento de PROTESE PARA IMPLANTE ...</td>\n",
       "      <td>Coordenador Administrativo</td>\n",
       "      <td>CELIO D ALBUQUERQUE NEVES FILHO</td>\n",
       "      <td>5.259618e+09</td>\n",
       "    </tr>\n",
       "  </tbody>\n",
       "</table>\n",
       "</div>"
      ],
      "text/plain": [
       "              dates                         orgao  \\\n",
       "303863   2005-08-01           COMANDO DO EXERCITO   \n",
       "416222   2014-05-16        COMANDO DA AERONAUTICA   \n",
       "688924   2016-11-18           COMANDO DO EXERCITO   \n",
       "547988   2009-12-15           COMANDO DO EXERCITO   \n",
       "1443714  2016-01-04  UNIVERSIDADE FEDERAL DO PARA   \n",
       "\n",
       "                                                  uasg  \\\n",
       "303863        HOSPITAL MILITAR DE AREA DE PORTO ALEGRE   \n",
       "416222   MAER-GAPBR-GRUPAMENTO DE APOIO DE BRASILIA/DF   \n",
       "688924                               COMANDO LOGISTICO   \n",
       "547988                 ESTADO-MAIOR DO EXERCITO-MEX/DF   \n",
       "1443714    HOSPITAL UNIVERSITARIO BETINA FERRO E SOUZA   \n",
       "\n",
       "                                       ds_fundamento_legal  \\\n",
       "303863   Fundamento Legal: Artigo 25  ,  Caput  , da Le...   \n",
       "416222   Fundamento Legal: Art. 25o, Caput da Lei no 8....   \n",
       "688924   Fundamento Legal: Art. 25o, Inciso I da Lei no...   \n",
       "547988   Fundamento Legal: Artigo 25, inciso I, da Lei ...   \n",
       "1443714  Fundamento Legal: Art. 25o, Caput da Lei no 8....   \n",
       "\n",
       "                                          ds_justificativa  \\\n",
       "303863   Justificativa: Competicao e inviavel, uma vez ...   \n",
       "416222   Justificativa: Conforme Ata de Acordo no004/DC...   \n",
       "688924          Justificativa: Inviabilidade de competicao   \n",
       "547988   Justificativa: I- A empresa e produtora exclus...   \n",
       "1443714  Justificativa: Fornecimento de PROTESE PARA IM...   \n",
       "\n",
       "                                       ds_objeto_licitacao  \\\n",
       "303863    Objeto: Prestacao de servico de diagnistico por    \n",
       "416222   Objeto: Aquisicao de materiais e prestacao de ...   \n",
       "688924      Objeto: Aquisicao de viatura blindada Guarani    \n",
       "547988   ao do Exercito Brasileiro, em conformidade com...   \n",
       "1443714  Objeto: Fornecimento de PROTESE PARA IMPLANTE ...   \n",
       "\n",
       "                  no_cargo_resp_decl_disp  \\\n",
       "303863     Ordenador de Despesas do HGePA   \n",
       "416222        Ordenador de Despesas Copac   \n",
       "688924   Ordenador de Despesas Substituto   \n",
       "547988       Ordenador de Despesas do EME   \n",
       "1443714        Coordenador Administrativo   \n",
       "\n",
       "                        no_responsavel_decl_disp   vr_estimado  \n",
       "303863               GILMAR CORREA DE FIGUEIREDO  1.800000e+10  \n",
       "416222             JOSE AUGUSTO CREPALDI AFFONSO  7.255869e+09  \n",
       "688924                  MARCELO MORAES RODRIGUES  5.939680e+09  \n",
       "547988   CARLOS ALBERTO PASSARELLA ARANTES - CEL  5.443227e+09  \n",
       "1443714          CELIO D ALBUQUERQUE NEVES FILHO  5.259618e+09  "
      ]
     },
     "execution_count": 17,
     "metadata": {},
     "output_type": "execute_result"
    }
   ],
   "source": [
    "top100_df.head()"
   ]
  },
  {
   "cell_type": "code",
   "execution_count": 18,
   "metadata": {},
   "outputs": [],
   "source": [
    "top100_df.reset_index(drop = True).to_json('json/100_maiores_gastos.json', orient = 'split', index = False)"
   ]
  },
  {
   "cell_type": "code",
   "execution_count": 19,
   "metadata": {},
   "outputs": [
    {
     "data": {
      "text/plain": [
       "EDUARDO SEARA MACHADO POJO DO REGO         20\n",
       "ADHEMAR LOPES DE ALMEIDA                    3\n",
       "ANDREA GOOD LIMA COUTO                      3\n",
       "RUBENS PORTUGAL BACELLAR                    2\n",
       "PEDRO AUGUSTO SANGUINETTI FERREIRA          2\n",
       "GISELIA FERREIRA                            2\n",
       "FABIO COIMBRA MIRANDA                       2\n",
       "JOSE AUGUSTO CREPALDI AFFONSO               2\n",
       "MARIANA NOGUEIRA DE RESENDE SOUSA           2\n",
       "JULIANA MARCIA BARROSO                      2\n",
       "ANToNIO MuRCIO DE OLIVEIRA AGUIAR           2\n",
       "MAJ BRIG AR DIRCEU TONDOLO NoRO             2\n",
       "ROBSON COCINO DA COSTA                      2\n",
       "EUNICE DE OLIVEIRA FERREIRA SANTOS          2\n",
       "ADRIANA RODOVALHO BEZERRA                   2\n",
       "GUILHERME FERNANDO SCANDELAI                2\n",
       "CINTIA NUNES CARDOSO LOPES                  1\n",
       "PAULO ROBERTO DE ASSIS PASSOS               1\n",
       "RUI ALENCAR ANDRADE                         1\n",
       "JOPO 2NGELO LOURES                          1\n",
       "VERA LthCIA DE MORAES                       1\n",
       "LUCIA MARIA MODESTO PEREIRA                 1\n",
       "LUIZ FERNANDO CORREA                        1\n",
       "JOAO MAURICIO MARQUES MAGALHAES CEL AV      1\n",
       "CARLOS ALBERTO PASSARELA ARANTES- CEL       1\n",
       "JOSE FERNANDO UCHOA COSTA NETO              1\n",
       "MICHELLE WERNECK DE OLIVEIRA                1\n",
       "LENILSON QUEIROZ DE ARAUJO                  1\n",
       "ARMANDO JOSE DE AGUIAR PIRES                1\n",
       "GILMAR CORREA DE FIGUEIREDO                 1\n",
       "                                           ..\n",
       "DANIEL MACIEL DE MENEZES SILVA              1\n",
       "MARCELO TENORIO DE CARVALHO                 1\n",
       "ROBSON NOVAES HUREN - CEL                   1\n",
       "MARCOS MOTA BASTOS                          1\n",
       "MARCELO MORAES RODRIGUES                    1\n",
       "DENIO MENEZES DA SILVA                      1\n",
       "VAGNER DE SOUZA LUCIANO                     1\n",
       "GILVANEIRE CAVALCANTI BELTRAO               1\n",
       "TIAGO FALCAO SILVA                          1\n",
       "CELIO D ALBUQUERQUE NEVES FILHO             1\n",
       "JOS>> RIBAMAR MENDES DINIZ                  1\n",
       "MARCOS ANTONIO DA CUNHA                     1\n",
       "RICARDO YUKIO IAMAGUCHI                     1\n",
       "ANTONIO CORREA NETO                         1\n",
       "NILTON COSTA SIMOES                         1\n",
       "DANIEL SILVA BALABAN                        1\n",
       "JOSE ORLANDO RIBEIRO CARDOSO                1\n",
       "HELIO FRANCISCO DE MIRANDA                  1\n",
       "CARLOS ALBERTO PASSARELLA ARANTES - CEL     1\n",
       "CARLA FRANCA WOLANSKI DE ALMEIDA            1\n",
       "ANTONIO JOAO NOCCHI PARERA                  1\n",
       "RODRIGO OCTAVIO MACIEL                      1\n",
       "WADY CHARONE JUNIOR                         1\n",
       "PAULO SERGIO IGLESSIAS                      1\n",
       "RAFAEL PEREIRA TORINO                       1\n",
       "LUIS HENRIQUE DA SILVA DE PAIVA             1\n",
       "DANIEL FEITOSA BARBOSA                      1\n",
       "AMERICO TRISTAO BERNARDES                   1\n",
       "REGINA MARIA LOVATO DE OLIVEIRA             1\n",
       "ROBERTO LUIZ LOPES                          1\n",
       "Name: no_responsavel_decl_disp, Length: 64, dtype: int64"
      ]
     },
     "execution_count": 19,
     "metadata": {},
     "output_type": "execute_result"
    }
   ],
   "source": [
    "top100_df.no_responsavel_decl_disp.value_counts()"
   ]
  },
  {
   "cell_type": "code",
   "execution_count": 36,
   "metadata": {},
   "outputs": [],
   "source": [
    "with open('json/100_maiores_gastos.json', 'w', encoding='utf-8') as file:\n",
    "    df3.reset_index(drop = True).to_json(file, orient = 'split', index = False)"
   ]
  },
  {
   "cell_type": "markdown",
   "metadata": {},
   "source": [
    "## Datas\n",
    "### Período de tempo utilizado: 2000-2019"
   ]
  },
  {
   "cell_type": "code",
   "execution_count": 6,
   "metadata": {},
   "outputs": [
    {
     "name": "stdout",
     "output_type": "stream",
     "text": [
      "2000-01-03 00:00:00\n",
      "2019-08-02 00:00:00\n"
     ]
    }
   ],
   "source": [
    "print(DataAnalysis.df.dates.min())\n",
    "print(DataAnalysis.df.dates.max())"
   ]
  },
  {
   "cell_type": "markdown",
   "metadata": {},
   "source": [
    "## Análise Granular"
   ]
  },
  {
   "cell_type": "code",
   "execution_count": 7,
   "metadata": {},
   "outputs": [],
   "source": [
    "months = [12,10,8,6,4,3,2,1]\n",
    "days   = [20,15,12,10,9,7,5,3,1]\n",
    "\n",
    "time_increment = list(zip(months, ['month']*len(months)))\n",
    "time_increment += list(zip(days, ['day']*len(days)))\n",
    "\n",
    "if not os.path.isfile('bckp/granulated_time_series.pkl'):\n",
    "    for t in time_increment:\n",
    "        print(t)\n",
    "        times_temp = []\n",
    "        n_vec_temp = []\n",
    "\n",
    "        if t[1] == 'month':\n",
    "            DataAnalysis.monthly_cumulative_time_series(2000, 1, t[0])\n",
    "        if t[1] == 'day':\n",
    "            DataAnalysis.cumulative_time_series('2000-01-01', pd.Timedelta(days = t[0]))\n",
    "            \n",
    "    DataAnalysis.save_history('bckp/granulated_time_series.pkl')\n",
    "else:\n",
    "    DataAnalysis.load_history('bckp/granulated_time_series.pkl')"
   ]
  },
  {
   "cell_type": "markdown",
   "metadata": {},
   "source": [
    "## Decomposição Temporal"
   ]
  },
  {
   "cell_type": "code",
   "execution_count": 8,
   "metadata": {},
   "outputs": [],
   "source": [
    "from statsmodels.tsa.seasonal import seasonal_decompose"
   ]
  },
  {
   "cell_type": "code",
   "execution_count": 9,
   "metadata": {},
   "outputs": [],
   "source": [
    "x, y = DataAnalysis.history['day', 1]\n",
    "#y = [np.sum(i) for i in y]"
   ]
  },
  {
   "cell_type": "code",
   "execution_count": 10,
   "metadata": {},
   "outputs": [
    {
     "name": "stderr",
     "output_type": "stream",
     "text": [
      "/usr/local/lib/python3.5/dist-packages/numpy/core/fromnumeric.py:3118: RuntimeWarning: Mean of empty slice.\n",
      "  out=out, **kwargs)\n",
      "/usr/local/lib/python3.5/dist-packages/numpy/core/_methods.py:85: RuntimeWarning: invalid value encountered in double_scalars\n",
      "  ret = ret.dtype.type(ret / rcount)\n",
      "/usr/local/lib/python3.5/dist-packages/numpy/core/_methods.py:140: RuntimeWarning: Degrees of freedom <= 0 for slice\n",
      "  keepdims=keepdims)\n",
      "/usr/local/lib/python3.5/dist-packages/numpy/core/_methods.py:110: RuntimeWarning: invalid value encountered in true_divide\n",
      "  arrmean, rcount, out=arrmean, casting='unsafe', subok=False)\n",
      "/usr/local/lib/python3.5/dist-packages/numpy/core/_methods.py:132: RuntimeWarning: invalid value encountered in double_scalars\n",
      "  ret = ret.dtype.type(ret / rcount)\n"
     ]
    }
   ],
   "source": [
    "out_df = pd.DataFrame()\n",
    "out_df['date'] = x\n",
    "\n",
    "try:\n",
    "    out_df['mean'] = [np.mean(i) for i in y]\n",
    "except:\n",
    "    out_df['mean'] = 0\n",
    "    \n",
    "try:\n",
    "    out_df['median'] = [np.median(i) for i in y]\n",
    "except:\n",
    "    out_df['median'] = 0\n",
    "\n",
    "try:\n",
    "    out_df['sum'] = [np.sum(i) for i in y]\n",
    "except:\n",
    "    out_df['sum'] = 0\n",
    "    \n",
    "try:\n",
    "    out_df['std'] = [np.std(i) for i in y]\n",
    "except:\n",
    "    out_df['std'] = 0\n",
    "    \n",
    "try:\n",
    "    out_df['max'] = [np.max(i) for i in y]\n",
    "except:\n",
    "    out_df['max'] = 0\n",
    "    \n",
    "try:\n",
    "    out_df['min'] = [np.min(i) for i in y]\n",
    "except:\n",
    "    out_df['min'] = 0\n",
    "\n",
    "out_df.to_csv('1_day_datagov.csv', index = False)"
   ]
  },
  {
   "cell_type": "code",
   "execution_count": 11,
   "metadata": {},
   "outputs": [],
   "source": [
    "series = pd.Series(y)\n",
    "s_date = pd.Series(x)\n",
    "\n",
    "series.index = pd.to_datetime(s_date)"
   ]
  },
  {
   "cell_type": "code",
   "execution_count": 12,
   "metadata": {},
   "outputs": [
    {
     "ename": "ValueError",
     "evalue": "setting an array element with a sequence.",
     "output_type": "error",
     "traceback": [
      "\u001b[0;31m------------------------------\u001b[0m",
      "\u001b[0;31mValueError\u001b[0mTraceback (most recent call last)",
      "\u001b[0;32m<ipython-input-12-5e3f96dc72be>\u001b[0m in \u001b[0;36m<module>\u001b[0;34m()\u001b[0m\n\u001b[1;32m     11\u001b[0m \u001b[0;34m\u001b[0m\u001b[0m\n\u001b[1;32m     12\u001b[0m \u001b[0;31m#result = seasonal_decompose(series, model='additive', freq = 365)\u001b[0m\u001b[0;34m\u001b[0m\u001b[0;34m\u001b[0m\u001b[0m\n\u001b[0;32m---> 13\u001b[0;31m \u001b[0mresult\u001b[0m \u001b[0;34m=\u001b[0m \u001b[0mstldecompose\u001b[0m\u001b[0;34m.\u001b[0m\u001b[0mstl\u001b[0m\u001b[0;34m.\u001b[0m\u001b[0mdecompose\u001b[0m\u001b[0;34m(\u001b[0m\u001b[0mseries\u001b[0m\u001b[0;34m,\u001b[0m \u001b[0mperiod\u001b[0m \u001b[0;34m=\u001b[0m \u001b[0;36m2\u001b[0m\u001b[0;34m)\u001b[0m\u001b[0;34m\u001b[0m\u001b[0m\n\u001b[0m\u001b[1;32m     14\u001b[0m \u001b[0;31m#cycle, trend = sm.tsa.filters.hpfilter(series, 365)\u001b[0m\u001b[0;34m\u001b[0m\u001b[0;34m\u001b[0m\u001b[0m\n",
      "\u001b[0;32m/usr/local/lib/python3.5/dist-packages/stldecompose/stl.py\u001b[0m in \u001b[0;36mdecompose\u001b[0;34m(df, period, lo_frac, lo_delta)\u001b[0m\n\u001b[1;32m     45\u001b[0m                    \u001b[0mfrac\u001b[0m\u001b[0;34m=\u001b[0m\u001b[0mlo_frac\u001b[0m\u001b[0;34m,\u001b[0m\u001b[0;34m\u001b[0m\u001b[0m\n\u001b[1;32m     46\u001b[0m                    \u001b[0mdelta\u001b[0m\u001b[0;34m=\u001b[0m\u001b[0mlo_delta\u001b[0m \u001b[0;34m*\u001b[0m \u001b[0mlen\u001b[0m\u001b[0;34m(\u001b[0m\u001b[0mobserved\u001b[0m\u001b[0;34m)\u001b[0m\u001b[0;34m,\u001b[0m\u001b[0;34m\u001b[0m\u001b[0m\n\u001b[0;32m---> 47\u001b[0;31m                    return_sorted=False)\n\u001b[0m\u001b[1;32m     48\u001b[0m     \u001b[0mdetrended\u001b[0m \u001b[0;34m=\u001b[0m \u001b[0mobserved\u001b[0m \u001b[0;34m-\u001b[0m \u001b[0mtrend\u001b[0m\u001b[0;34m\u001b[0m\u001b[0m\n\u001b[1;32m     49\u001b[0m \u001b[0;34m\u001b[0m\u001b[0m\n",
      "\u001b[0;32m/usr/local/lib/python3.5/dist-packages/statsmodels/nonparametric/smoothers_lowess.py\u001b[0m in \u001b[0;36mlowess\u001b[0;34m(endog, exog, frac, it, delta, is_sorted, missing, return_sorted)\u001b[0m\n\u001b[1;32m    125\u001b[0m     '''\n\u001b[1;32m    126\u001b[0m \u001b[0;34m\u001b[0m\u001b[0m\n\u001b[0;32m--> 127\u001b[0;31m     \u001b[0mendog\u001b[0m \u001b[0;34m=\u001b[0m \u001b[0mnp\u001b[0m\u001b[0;34m.\u001b[0m\u001b[0masarray\u001b[0m\u001b[0;34m(\u001b[0m\u001b[0mendog\u001b[0m\u001b[0;34m,\u001b[0m \u001b[0mfloat\u001b[0m\u001b[0;34m)\u001b[0m\u001b[0;34m\u001b[0m\u001b[0m\n\u001b[0m\u001b[1;32m    128\u001b[0m     \u001b[0mexog\u001b[0m \u001b[0;34m=\u001b[0m \u001b[0mnp\u001b[0m\u001b[0;34m.\u001b[0m\u001b[0masarray\u001b[0m\u001b[0;34m(\u001b[0m\u001b[0mexog\u001b[0m\u001b[0;34m,\u001b[0m \u001b[0mfloat\u001b[0m\u001b[0;34m)\u001b[0m\u001b[0;34m\u001b[0m\u001b[0m\n\u001b[1;32m    129\u001b[0m \u001b[0;34m\u001b[0m\u001b[0m\n",
      "\u001b[0;32m/usr/local/lib/python3.5/dist-packages/numpy/core/numeric.py\u001b[0m in \u001b[0;36masarray\u001b[0;34m(a, dtype, order)\u001b[0m\n\u001b[1;32m    536\u001b[0m \u001b[0;34m\u001b[0m\u001b[0m\n\u001b[1;32m    537\u001b[0m     \"\"\"\n\u001b[0;32m--> 538\u001b[0;31m     \u001b[0;32mreturn\u001b[0m \u001b[0marray\u001b[0m\u001b[0;34m(\u001b[0m\u001b[0ma\u001b[0m\u001b[0;34m,\u001b[0m \u001b[0mdtype\u001b[0m\u001b[0;34m,\u001b[0m \u001b[0mcopy\u001b[0m\u001b[0;34m=\u001b[0m\u001b[0;32mFalse\u001b[0m\u001b[0;34m,\u001b[0m \u001b[0morder\u001b[0m\u001b[0;34m=\u001b[0m\u001b[0morder\u001b[0m\u001b[0;34m)\u001b[0m\u001b[0;34m\u001b[0m\u001b[0m\n\u001b[0m\u001b[1;32m    539\u001b[0m \u001b[0;34m\u001b[0m\u001b[0m\n\u001b[1;32m    540\u001b[0m \u001b[0;34m\u001b[0m\u001b[0m\n",
      "\u001b[0;31mValueError\u001b[0m: setting an array element with a sequence."
     ]
    }
   ],
   "source": [
    "from matplotlib.ticker import FormatStrFormatter\n",
    "plt.style.use('ggplot')\n",
    "\n",
    "\n",
    "import statsmodels.api as sm\n",
    "import statsmodels.tsa as tsa\n",
    "from sklearn.metrics import mean_squared_error\n",
    "from statsmodels.tsa.ar_model import AR\n",
    "import numpy as np\n",
    "import stldecompose\n",
    "\n",
    "#result = seasonal_decompose(series, model='additive', freq = 365)\n",
    "result = stldecompose.stl.decompose(series, period = 2)\n",
    "#cycle, trend = sm.tsa.filters.hpfilter(series, 365)"
   ]
  },
  {
   "cell_type": "code",
   "execution_count": null,
   "metadata": {},
   "outputs": [],
   "source": [
    "ylabel = 'Valor (R$)'\n",
    "\n",
    "fig, ax = plt.subplots(4,1, figsize = (20,16))\n",
    "fig.tight_layout() \n",
    "\n",
    "ax[0].plot(series, linewidth = 4)\n",
    "ax[0].set_title('Total Revenue', fontsize = 30)\n",
    "ax[0].set_ylabel(ylabel, fontsize = 25)\n",
    "ax[0].yaxis.set_major_formatter(FormatStrFormatter('%.2E'))\n",
    "ax[0].xaxis.grid(color = 'blue')\n",
    "\n",
    "ax[1].plot(result.trend, linewidth = 4)\n",
    "ax[1].set_title('Trend', fontsize = 30)\n",
    "ax[1].set_ylabel(ylabel, fontsize = 25)\n",
    "ax[1].yaxis.set_major_formatter(FormatStrFormatter('%.2E'))\n",
    "ax[1].xaxis.grid(color = 'blue') # horizontal lines\n",
    "\n",
    "ax[2].plot(result.seasonal, linewidth = 4)\n",
    "ax[2].set_title('Seasonal (Anual)', fontsize = 30)\n",
    "ax[2].set_ylabel(ylabel, fontsize = 25)\n",
    "ax[2].yaxis.set_major_formatter(FormatStrFormatter('%.2E'))\n",
    "ax[2].xaxis.grid(color = 'blue') # horizontal lines\n",
    "\n",
    "ax[3].plot(result.resid, linewidth = 4)\n",
    "ax[3].set_title('Seasonal (Anual)', fontsize = 30)\n",
    "ax[3].set_ylabel(ylabel, fontsize = 25)\n",
    "ax[3].yaxis.set_major_formatter(FormatStrFormatter('%.2E'))\n",
    "ax[3].xaxis.grid(color = 'blue') # horizontal lines\n",
    "fig.subplots_adjust(hspace=.2)\n"
   ]
  },
  {
   "cell_type": "code",
   "execution_count": null,
   "metadata": {},
   "outputs": [],
   "source": [
    "plt.figure(figsize=(16,4))\n",
    "plt.plot(series)\n",
    "plt.plot(result.seasonal + result.trend)\n",
    "#plt.xlim('01-01-2000','01-01-2006')\n",
    "#plt.ylim(0,1e8)"
   ]
  },
  {
   "cell_type": "code",
   "execution_count": null,
   "metadata": {},
   "outputs": [],
   "source": [
    "seasonal = pd.DataFrame(result.seasonal)\n",
    "seasonal.columns = ['values']\n",
    "\n",
    "trend = pd.DataFrame(result.trend)\n",
    "trend.columns = ['values']"
   ]
  },
  {
   "cell_type": "code",
   "execution_count": null,
   "metadata": {},
   "outputs": [],
   "source": [
    "dow = []\n",
    "months = []\n",
    "for i in result.seasonal.index:\n",
    "    months.append(i.month)\n",
    "    dow.append(i.dayofweek)"
   ]
  },
  {
   "cell_type": "code",
   "execution_count": null,
   "metadata": {},
   "outputs": [],
   "source": [
    "seasonal['months'] = months\n",
    "seasonal['dow'] = dow\n",
    "\n",
    "trend['months'] = months\n",
    "trend['dow'] = dow"
   ]
  },
  {
   "cell_type": "code",
   "execution_count": null,
   "metadata": {},
   "outputs": [],
   "source": [
    "h = np.array([v[0] for v in seasonal.groupby('months').mean().values])\n",
    "m = np.array([v[0] for v in trend.groupby('months').mean().values])\n",
    "\n",
    "plt.figure(figsize=(16,4))\n",
    "plt.bar(['Jan', 'Fev', 'Mar', 'Abr', 'Mai', 'Jun', 'Jul', 'Ago', 'Set', 'Out', 'Nov', 'Dec'], m+h)"
   ]
  },
  {
   "cell_type": "code",
   "execution_count": null,
   "metadata": {},
   "outputs": [],
   "source": [
    "h = np.array([v[0] for v in seasonal.groupby('dow').mean().values])\n",
    "m = np.array([v[0] for v in trend.groupby('dow').mean().values])\n",
    "\n",
    "plt.figure(figsize=(16,4))\n",
    "plt.bar(['Domingo', 'Segunda', 'Terça', 'Quarta', 'Quinta', 'Sexta', 'Sábado'], m+h)\n",
    "#plt.ylim(1.2e7)"
   ]
  },
  {
   "cell_type": "code",
   "execution_count": null,
   "metadata": {},
   "outputs": [],
   "source": [
    "# ARIMA example\n",
    "from statsmodels.tsa.arima_model import ARIMA\n",
    "from random import random\n",
    "# contrived dataset\n",
    "# fit model\n",
    "dt = series\n",
    "model = ARIMA(dt, order=(1, 1, 1))\n",
    "model_fit = model.fit(disp=False)\n",
    "# make prediction\n",
    "yhat = model_fit.predict(len(dt)-1, len(dt)+10, typ='levels')\n",
    "\n",
    "plt.figure(figsize = (16,4))\n",
    "plt.plot(series.values)\n",
    "plt.plot(list(range(len(dt), len(dt)+len(yhat))),yhat)"
   ]
  },
  {
   "cell_type": "code",
   "execution_count": null,
   "metadata": {},
   "outputs": [],
   "source": [
    "import pyramid\n",
    "#https://www.analyticsvidhya.com/blog/2018/08/auto-arima-time-series-modeling-python-r/"
   ]
  },
  {
   "cell_type": "code",
   "execution_count": null,
   "metadata": {},
   "outputs": [],
   "source": [
    "from pyramid.arima import auto_arima\n",
    "model = auto_arima(series, trace=True, error_action='ignore', suppress_warnings=True)"
   ]
  },
  {
   "cell_type": "code",
   "execution_count": null,
   "metadata": {},
   "outputs": [],
   "source": [
    "model = auto_arima(y_train, start_p=0, start_q=0,\n",
    "            test='adf',       \n",
    "            max_p=7, max_q=7, \n",
    "            m=np.int(season),             \n",
    "            d=n_diffs,           \n",
    "            seasonal=True,  \n",
    "            start_P=0, \n",
    "            D=1, \n",
    "            trace=True,\n",
    "            error_action='ignore',  \n",
    "            suppress_warnings=True, \n",
    "            stepwise=True)\n",
    "\n",
    "print(model.conf_int())\n",
    "y_forec, conf_int  = model.predict(10,return_conf_int=True,alpha=0.05)\n",
    "print(conf_int)\n",
    "std_error = model.bse()"
   ]
  },
  {
   "cell_type": "code",
   "execution_count": null,
   "metadata": {},
   "outputs": [],
   "source": [
    "#result = seasonal_decompose(series, model='additive', freq = 30)\n",
    "result = stldecompose.stl.decompose(series, period = 30)\n",
    "\n",
    "ax[3].plot(result.seasonal, linewidth = 4)\n",
    "ax[3].set_title('Seasonal (Month)', fontsize = 30)\n",
    "ax[3].set_ylabel(ylabel, fontsize = 25)\n",
    "ax[3].yaxis.set_major_formatter(FormatStrFormatter('%.2E'))\n",
    "ax[3].xaxis.grid(color = 'blue') # horizontal lines\n",
    "\n",
    "#result = seasonal_decompose(series, model='additive', freq = 7)\n",
    "result = stldecompose.stl.decompose(series, period = 7)\n",
    "\n",
    "ax[4].plot(result.seasonal, linewidth = 4)\n",
    "ax[4].set_title('Seasonal (Week)', fontsize = 30)\n",
    "ax[4].set_ylabel(ylabel, fontsize = 25)\n",
    "ax[4].yaxis.set_major_formatter(FormatStrFormatter('%.2E'))\n",
    "ax[4].xaxis.grid(color = 'blue') # horizontal lines\n",
    "\n",
    "#ax[3].plot(result.resid, linewidth = 4)\n",
    "#ax[3].set_title('Residual', fontsize = 30)\n",
    "#ax[3].set_ylabel(ylabel, fontsize = 25)\n",
    "#ax[3].yaxis.set_major_formatter(FormatStrFormatter('%.2E'))\n",
    "#ax[3].xaxis.grid(color = 'blue') # horizontal lines\n",
    "\n",
    "fig.subplots_adjust(hspace=.8)\n",
    "   \n",
    "for i in range(5):\n",
    "    for tick in ax[i].get_xticklabels():\n",
    "        tick.set_rotation(45)\n",
    "        tick.set_fontsize(20) \n",
    "    for tick in ax[i].get_yticklabels():\n",
    "        tick.set_fontsize(20) \n",
    "        \n",
    "        \n",
    "plt.show()"
   ]
  },
  {
   "cell_type": "markdown",
   "metadata": {},
   "source": [
    "## Análise de Complexidade"
   ]
  },
  {
   "cell_type": "code",
   "execution_count": 8,
   "metadata": {},
   "outputs": [],
   "source": [
    "from modules.complexity_analytics import Chronometer\n",
    "from scipy.interpolate import interp1d\n",
    "from scipy.interpolate import CubicSpline"
   ]
  },
  {
   "cell_type": "code",
   "execution_count": 18,
   "metadata": {},
   "outputs": [
    {
     "name": "stdout",
     "output_type": "stream",
     "text": [
      "month 12\n",
      "month 10\n",
      "month 8\n",
      "month 6\n",
      "month 4\n",
      "month 3\n",
      "month 2\n",
      "month 1\n",
      "day 20\n",
      "day 15\n",
      "day 12\n",
      "day 10\n",
      "day 9\n",
      "day 7\n",
      "day 5\n",
      "day 3\n"
     ]
    },
    {
     "name": "stderr",
     "output_type": "stream",
     "text": [
      "/usr/local/lib/python3.5/dist-packages/numpy/core/fromnumeric.py:3118: RuntimeWarning: Mean of empty slice.\n",
      "  out=out, **kwargs)\n",
      "/usr/local/lib/python3.5/dist-packages/numpy/core/_methods.py:85: RuntimeWarning: invalid value encountered in double_scalars\n",
      "  ret = ret.dtype.type(ret / rcount)\n"
     ]
    },
    {
     "name": "stdout",
     "output_type": "stream",
     "text": [
      "day 1\n"
     ]
    }
   ],
   "source": [
    "times = []\n",
    "input_sizes = []\n",
    "\n",
    "for day, month in time_increment:\n",
    "    print(month,day)\n",
    "    \n",
    "    x, y = DataAnalysis.history[month, day]\n",
    "    \n",
    "    y = [np.median(v) for v in y]\n",
    "    y = np.nan_to_num(y, 0)\n",
    "    \n",
    "    x = np.linspace(0, len(y), num=len(y), endpoint=True)\n",
    "    \n",
    "    \n",
    "    #parameters = {'x':x,\n",
    "    #              'y':y,\n",
    "    #              'kind':'cubic',\n",
    "    #              'fill_value':'extrapolate'\n",
    "    #             }\n",
    "    \n",
    "    parameters = {'x':x,\n",
    "                  'y':y,\n",
    "                  'extrapolate': 'periodic'\n",
    "                 }\n",
    "\n",
    "    chron_spline = Chronometer(CubicSpline, parameters, int(1e4))\n",
    "    chron_spline.start()\n",
    "    times.append(chron_spline.result['time'])\n",
    "    input_sizes.append(len(y))"
   ]
  },
  {
   "cell_type": "code",
   "execution_count": 26,
   "metadata": {},
   "outputs": [
    {
     "name": "stdout",
     "output_type": "stream",
     "text": [
      "\n"
     ]
    },
    {
     "data": {
      "image/png": "[encoded data removed]",
      "text/plain": [
       "<Figure size 432x432 with 1 Axes>"
      ]
     },
     "metadata": {},
     "output_type": "display_data"
    }
   ],
   "source": [
    "plt.style.use('ggplot')\n",
    "x = [v for v in input_sizes]\n",
    "y = np.array([np.mean(t) for t in times])\n",
    "std = np.array([np.std(t)*2/(len(t)**.5) for t in times])\n",
    "y_M = y+std\n",
    "y_m = y-std\n",
    "\n",
    "z = np.polyfit(x, y, 1)\n",
    "p = np.poly1d(z)\n",
    "\n",
    "plt.figure(figsize=(6,6))\n",
    "plt.scatter(x, y*1000, marker = 'x', s = 100, color = 'red', label = 'Mediana do tempo medido')\n",
    "plt.fill_between(x, y_M*1000, y_m*1000, color = 'orange', alpha = .45, label = 'Erro Experimental do Tempo Medido')\n",
    "\n",
    "plt.plot(x, p(x)*1000, '--', color = 'blue', label = 'Regressão Linear')\n",
    "plt.legend()\n",
    "plt.xlabel('Número de amostras')\n",
    "plt.ylabel('Tempo de processamento (ms)')\n",
    "plt.title('Análise de Complexidade do Algoritmo de Splines Cúbicas')\n",
    "plt.savefig('comp_spline.png')\n",
    "print()"
   ]
  },
  {
   "cell_type": "code",
   "execution_count": 20,
   "metadata": {},
   "outputs": [
    {
     "name": "stdout",
     "output_type": "stream",
     "text": [
      "month 12\n",
      "month 10\n",
      "month 8\n",
      "month 6\n",
      "month 4\n",
      "month 3\n",
      "month 2\n",
      "month 1\n",
      "day 20\n",
      "day 15\n",
      "day 12\n",
      "day 10\n",
      "day 9\n",
      "day 7\n",
      "day 5\n",
      "day 3\n"
     ]
    },
    {
     "name": "stderr",
     "output_type": "stream",
     "text": [
      "/usr/local/lib/python3.5/dist-packages/numpy/core/fromnumeric.py:3118: RuntimeWarning: Mean of empty slice.\n",
      "  out=out, **kwargs)\n",
      "/usr/local/lib/python3.5/dist-packages/numpy/core/_methods.py:85: RuntimeWarning: invalid value encountered in double_scalars\n",
      "  ret = ret.dtype.type(ret / rcount)\n"
     ]
    },
    {
     "name": "stdout",
     "output_type": "stream",
     "text": [
      "day 1\n",
      "2\n",
      "3\n",
      "4\n",
      "5\n",
      "6\n",
      "7\n",
      "8\n",
      "9\n",
      "10\n",
      "11\n",
      "12\n",
      "13\n",
      "14\n",
      "15\n",
      "16\n",
      "17\n",
      "18\n",
      "19\n",
      "20\n"
     ]
    }
   ],
   "source": [
    "import scipy \n",
    "times = []\n",
    "input_sizes = []\n",
    "chron_fft = None\n",
    "x, y = None, None\n",
    "parameters = None\n",
    "\n",
    "for day, month in time_increment:\n",
    "    print(month,day)\n",
    "    del x, y\n",
    "    del chron_fft\n",
    "    del parameters\n",
    "    \n",
    "    x, y = DataAnalysis.history[month, day]\n",
    "\n",
    "    y = [np.median(v) for v in y]\n",
    "    y = np.nan_to_num(y, 0)\n",
    "    \n",
    "    x = np.linspace(0, len(y), num=len(y), endpoint=True)\n",
    "    \n",
    "    \n",
    "    parameters = {\n",
    "                  'a':y,\n",
    "                 }\n",
    "\n",
    "    chron_fft = Chronometer(np.fft.fft, parameters, int(1e4))\n",
    "    chron_fft.start()\n",
    "    times.append(chron_fft.result['time'])\n",
    "    input_sizes.append(len(y))\n",
    "    \n",
    "s = CubicSpline(x, y, extrapolate='periodic')\n",
    "for i in range(2,21):\n",
    "    print(i)\n",
    "    xnew = np.linspace(0, len(y), num=len(y)*i, endpoint=True)\n",
    "    y_ = s(xnew)\n",
    "    \n",
    "    parameters = {\n",
    "                  'a':y_,\n",
    "                 }\n",
    "\n",
    "    chron_fft = Chronometer(np.fft.fft, parameters, int(1e4))\n",
    "    chron_fft.start()\n",
    "    times.append(chron_fft.result['time'])\n",
    "    input_sizes.append(len(y_))"
   ]
  },
  {
   "cell_type": "code",
   "execution_count": 28,
   "metadata": {},
   "outputs": [
    {
     "name": "stdout",
     "output_type": "stream",
     "text": [
      "\n"
     ]
    },
    {
     "data": {
      "image/png": "[encoded data removed]",
      "text/plain": [
       "<Figure size 432x432 with 1 Axes>"
      ]
     },
     "metadata": {},
     "output_type": "display_data"
    }
   ],
   "source": [
    "plt.style.use('ggplot')\n",
    "x = [v for v in input_sizes]\n",
    "y = np.array([np.median(t) for t in times])\n",
    "std = np.array([np.std(t)*2/(len(t)**.5) for t in times])\n",
    "y_M = y+std\n",
    "y_m = y-std\n",
    "\n",
    "z = np.polyfit(x, y, 1)\n",
    "p = np.poly1d(z)\n",
    "\n",
    "plt.figure(figsize=(6,6))\n",
    "plt.scatter(x, y*1000, marker = 'x', s = 100, color = 'red', label = 'Mediana do tempo medido')\n",
    "plt.fill_between(x, y_M*1000, y_m*1000, color = 'orange', alpha = .45, label = 'Erro Experimental do Tempo Medido')\n",
    "\n",
    "x = np.array(x)\n",
    "plt.plot(x, 0.000035*x*np.log(x), '--', color = 'blue', label = 'N*log10(N)')\n",
    "plt.legend()\n",
    "plt.xlabel('Número de amostras')\n",
    "plt.ylabel('Tempo de processamento (ms)')\n",
    "plt.title('Análise de Complexidade do Algoritmo FFT')\n",
    "plt.xscale('log')\n",
    "plt.savefig('comp_fft.png')\n",
    "print()"
   ]
  },
  {
   "cell_type": "code",
   "execution_count": null,
   "metadata": {},
   "outputs": [],
   "source": []
  }
 ],
 "metadata": {
  "kernelspec": {
   "display_name": "Python 3",
   "language": "python",
   "name": "python3"
  },
  "language_info": {
   "codemirror_mode": {
    "name": "ipython",
    "version": 3
   },
   "file_extension": ".py",
   "mimetype": "text/x-python",
   "name": "python",
   "nbconvert_exporter": "python",
   "pygments_lexer": "ipython3",
   "version": "3.5.2"
  }
 },
 "nbformat": 4,
 "nbformat_minor": 2
}
